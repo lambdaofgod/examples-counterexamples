{
 "cells": [
  {
   "cell_type": "code",
   "execution_count": 1,
   "metadata": {},
   "outputs": [
    {
     "name": "stderr",
     "output_type": "stream",
     "text": [
      "02/21/2021 23:23:20 - INFO - faiss -   Loading faiss with AVX2 support.\n",
      "02/21/2021 23:23:20 - INFO - faiss -   Loading faiss.\n",
      "02/21/2021 23:23:20 - INFO - farm.modeling.prediction_head -   Better speed can be achieved with apex installed from https://www.github.com/nvidia/apex .\n"
     ]
    }
   ],
   "source": [
    "\n",
    "import numpy as np\n",
    "from sklearn import pipeline, decomposition\n",
    "from sklearn import feature_extraction \n",
    "from sklearn.decomposition import NMF\n",
    "from sklearn.datasets import fetch_20newsgroups\n",
    "\n",
    "import haystack.document_store.memory\n",
    "import haystack.document_store.elasticsearch\n",
    "from haystack import document_store\n",
    "\n",
    "import haystack.retriever.dense\n",
    "from haystack import retriever\n",
    "import pandas as pd"
   ]
  },
  {
   "cell_type": "code",
   "execution_count": 2,
   "metadata": {},
   "outputs": [],
   "source": [
    "n_samples = 1000\n",
    "dataset = fetch_20newsgroups(shuffle=True, random_state=1,\n",
    "                             remove=('headers', 'footers', 'quotes'))\n",
    "\n",
    "data_train = dataset.data[:n_samples]\n",
    "data_test = dataset.data[n_samples:]"
   ]
  },
  {
   "cell_type": "code",
   "execution_count": 3,
   "metadata": {},
   "outputs": [],
   "source": [
    "pipe = pipeline.make_pipeline(\n",
    "    feature_extraction.text.TfidfVectorizer(),\n",
    "    decomposition.TruncatedSVD(n_components=100)\n",
    ")"
   ]
  },
  {
   "cell_type": "code",
   "execution_count": 4,
   "metadata": {},
   "outputs": [
    {
     "name": "stdout",
     "output_type": "stream",
     "text": [
      "CPU times: user 3.3 s, sys: 9.1 s, total: 12.4 s\n",
      "Wall time: 476 ms\n"
     ]
    },
    {
     "data": {
      "text/plain": [
       "Pipeline(memory=None,\n",
       "         steps=[('tfidfvectorizer',\n",
       "                 TfidfVectorizer(analyzer='word', binary=False,\n",
       "                                 decode_error='strict',\n",
       "                                 dtype=<class 'numpy.float64'>,\n",
       "                                 encoding='utf-8', input='content',\n",
       "                                 lowercase=True, max_df=1.0, max_features=None,\n",
       "                                 min_df=1, ngram_range=(1, 1), norm='l2',\n",
       "                                 preprocessor=None, smooth_idf=True,\n",
       "                                 stop_words=None, strip_accents=None,\n",
       "                                 sublinear_tf=False,\n",
       "                                 token_pattern='(?u)\\\\b\\\\w\\\\w+\\\\b',\n",
       "                                 tokenizer=None, use_idf=True,\n",
       "                                 vocabulary=None)),\n",
       "                ('truncatedsvd',\n",
       "                 TruncatedSVD(algorithm='randomized', n_components=100,\n",
       "                              n_iter=5, random_state=None, tol=0.0))],\n",
       "         verbose=False)"
      ]
     },
     "execution_count": 4,
     "metadata": {},
     "output_type": "execute_result"
    }
   ],
   "source": [
    "%%time\n",
    "pipe.fit(data_train)"
   ]
  },
  {
   "cell_type": "code",
   "execution_count": 5,
   "metadata": {},
   "outputs": [
    {
     "name": "stderr",
     "output_type": "stream",
     "text": [
      "02/21/2021 23:23:21 - WARNING - root -   tensorflow or tensorflow-hub not found, loading tfhub models won't work\n"
     ]
    }
   ],
   "source": [
    "import mlutil"
   ]
  },
  {
   "cell_type": "code",
   "execution_count": 6,
   "metadata": {},
   "outputs": [],
   "source": [
    "def get_embedding_dim(embedder):\n",
    "    if isinstance(embedder, pipeline.Pipeline):\n",
    "        return embedder.steps[-1][1].components_.shape[0]\n",
    "    elif isinstance(embedder, mlutil.feature_extraction.embeddings.PCREmbeddingVectorizer):\n",
    "        return embedder.dimensionality_\n",
    "    else:\n",
    "        return embedder.components_.shape[0]\n",
    "\n",
    "\n",
    "def make_dicts_with_added_field(dicts, field_name, field_values):\n",
    "    for d, val in zip(dicts, field_values):\n",
    "        d[field_name] = val\n",
    "        yield d\n",
    "    \n",
    "\n",
    "def make_sklearn_retriever(df, pipeline, col='text'):\n",
    "    embedding_dim = get_embedding_dim(pipeline)\n",
    "    memory_docstring_store = document_store.elasticsearch.ElasticsearchDocumentStore(index=col, embedding_dim=embedding_dim)\n",
    "    df['text'] = df[col]\n",
    "    embeddings = pipeline.fit_transform(df['text'])\n",
    "    documents = df.to_dict('records')\n",
    "    dicts_with_added_fields = list(make_dicts_with_added_field(documents, 'embedding', embeddings))\n",
    "    memory_docstring_store.write_documents(dicts_with_added_fields)\n",
    "    return retriever.dense.SklearnTransformerRetriever(embedding_transformer=pipeline, document_store=memory_docstring_store)"
   ]
  },
  {
   "cell_type": "code",
   "execution_count": 7,
   "metadata": {},
   "outputs": [],
   "source": [
    "df = pd.DataFrame({'newsgroups_text': data_train})"
   ]
  },
  {
   "cell_type": "code",
   "execution_count": 8,
   "metadata": {},
   "outputs": [],
   "source": [
    "df = df[~(df['newsgroups_text'].apply(len) > 10000)]"
   ]
  },
  {
   "cell_type": "code",
   "execution_count": 9,
   "metadata": {},
   "outputs": [
    {
     "data": {
      "text/plain": [
       "Pipeline(memory=None,\n",
       "         steps=[('tfidfvectorizer',\n",
       "                 TfidfVectorizer(analyzer='word', binary=False,\n",
       "                                 decode_error='strict',\n",
       "                                 dtype=<class 'numpy.float64'>,\n",
       "                                 encoding='utf-8', input='content',\n",
       "                                 lowercase=True, max_df=1.0, max_features=None,\n",
       "                                 min_df=1, ngram_range=(1, 1), norm='l2',\n",
       "                                 preprocessor=None, smooth_idf=True,\n",
       "                                 stop_words=None, strip_accents=None,\n",
       "                                 sublinear_tf=False,\n",
       "                                 token_pattern='(?u)\\\\b\\\\w\\\\w+\\\\b',\n",
       "                                 tokenizer=None, use_idf=True,\n",
       "                                 vocabulary=None)),\n",
       "                ('truncatedsvd',\n",
       "                 TruncatedSVD(algorithm='randomized', n_components=100,\n",
       "                              n_iter=5, random_state=None, tol=0.0))],\n",
       "         verbose=False)"
      ]
     },
     "execution_count": 9,
     "metadata": {},
     "output_type": "execute_result"
    }
   ],
   "source": [
    "pipe.fit(df['newsgroups_text'])"
   ]
  },
  {
   "cell_type": "code",
   "execution_count": 10,
   "metadata": {},
   "outputs": [
    {
     "name": "stderr",
     "output_type": "stream",
     "text": [
      "02/21/2021 23:23:22 - INFO - elasticsearch -   HEAD http://localhost:9200/ [status:200 request:0.004s]\n",
      "02/21/2021 23:23:22 - INFO - elasticsearch -   HEAD http://localhost:9200/newsgroups_text [status:200 request:0.001s]\n",
      "02/21/2021 23:23:22 - INFO - elasticsearch -   GET http://localhost:9200/newsgroups_text [status:200 request:0.001s]\n",
      "02/21/2021 23:23:22 - INFO - elasticsearch -   PUT http://localhost:9200/newsgroups_text/_mapping [status:200 request:0.004s]\n",
      "02/21/2021 23:23:22 - INFO - elasticsearch -   HEAD http://localhost:9200/label [status:200 request:0.001s]\n",
      "02/21/2021 23:23:23 - INFO - elasticsearch -   POST http://localhost:9200/_bulk?refresh=wait_for [status:200 request:0.714s]\n",
      "02/21/2021 23:23:24 - INFO - elasticsearch -   POST http://localhost:9200/_bulk?refresh=wait_for [status:200 request:0.996s]\n"
     ]
    }
   ],
   "source": [
    "sklearn_retriever = make_sklearn_retriever(df, pipe, col='newsgroups_text')"
   ]
  },
  {
   "cell_type": "code",
   "execution_count": 11,
   "metadata": {},
   "outputs": [
    {
     "name": "stderr",
     "output_type": "stream",
     "text": [
      "02/21/2021 23:23:24 - INFO - elasticsearch -   POST http://localhost:9200/newsgroups_text/_search [status:200 request:0.006s]\n"
     ]
    },
    {
     "data": {
      "text/plain": [
       "[{'text': \"\\n: The Bible says there is a God; if that is true then our atheism is\\n: mistaken.  What of it?  Seems pretty obvious to me.  Socrates said\\n: there were many gods; if that is true then your monotheism (and our\\n: atheism) is mistaken, even if Socrates never existed.\\n\\n\\nJim,\\n\\nI think you must have come in late. The discussion (on my part at\\nleast) began with Benedikt's questioning of the historical acuuracy of\\nthe NT. I was making the point that, if the same standards are used to\\nvalidate secular history that are used here to discredit NT history,\\nthen virtually nothing is known of the first century.\\n\\nYou seem to be saying that the Bible -cannot- be true because it\\nspeaks of the existence of God as it it were a fact. Your objection\\nhas nothing to do with history, it is merely another statement of\\natheism.\", 'id': 'bc4b2af5-195b-4dd9-ab9c-b6e546e89d81', 'score': 0.03589999999996962, 'probability': 0.500089749999036, 'question': None, 'meta': {'newsgroups_text': \"\\n: The Bible says there is a God; if that is true then our atheism is\\n: mistaken.  What of it?  Seems pretty obvious to me.  Socrates said\\n: there were many gods; if that is true then your monotheism (and our\\n: atheism) is mistaken, even if Socrates never existed.\\n\\n\\nJim,\\n\\nI think you must have come in late. The discussion (on my part at\\nleast) began with Benedikt's questioning of the historical acuuracy of\\nthe NT. I was making the point that, if the same standards are used to\\nvalidate secular history that are used here to discredit NT history,\\nthen virtually nothing is known of the first century.\\n\\nYou seem to be saying that the Bible -cannot- be true because it\\nspeaks of the existence of God as it it were a fact. Your objection\\nhas nothing to do with history, it is merely another statement of\\natheism.\"}, 'embedding': None},\n",
       " {'text': \"\\n\\nWell, this is alt.atheism.  I hope you arent here to try to convert anyone.\\n\\n\\nMany would disagree.\\n\\n[...]\\n\\nWell, you shouldn't give any particular book too much weight.  Actually,\\nI don't think that any of these statements is correct.  It is more likely\\nthat most of Jesus' fame was attributed to him after his death by those\\nwho had some strong motives...\\n\\n[...]\\n\\nWhat's a prophecy, and what's so significant about them?\\n\\n\\nI think we understand.\\n\\n\\nWell, sell your computer and donate you life to your religion now...\\nDon't waste any time.\", 'id': '2e1fa5d8-4365-46da-a385-ca7f522ac397', 'score': 0.03264999999998963, 'probability': 0.5000816249992749, 'question': None, 'meta': {'newsgroups_text': \"\\n\\nWell, this is alt.atheism.  I hope you arent here to try to convert anyone.\\n\\n\\nMany would disagree.\\n\\n[...]\\n\\nWell, you shouldn't give any particular book too much weight.  Actually,\\nI don't think that any of these statements is correct.  It is more likely\\nthat most of Jesus' fame was attributed to him after his death by those\\nwho had some strong motives...\\n\\n[...]\\n\\nWhat's a prophecy, and what's so significant about them?\\n\\n\\nI think we understand.\\n\\n\\nWell, sell your computer and donate you life to your religion now...\\nDon't waste any time.\"}, 'embedding': None},\n",
       " {'text': \"\\n\\nWell, this is alt.atheism.  I hope you arent here to try to convert anyone.\\n\\n\\nMany would disagree.\\n\\n[...]\\n\\nWell, you shouldn't give any particular book too much weight.  Actually,\\nI don't think that any of these statements is correct.  It is more likely\\nthat most of Jesus' fame was attributed to him after his death by those\\nwho had some strong motives...\\n\\n[...]\\n\\nWhat's a prophecy, and what's so significant about them?\\n\\n\\nI think we understand.\\n\\n\\nWell, sell your computer and donate you life to your religion now...\\nDon't waste any time.\", 'id': 'dd297a1e-ed49-4312-8f60-9dda2f1dc5c0', 'score': 0.02544999999997799, 'probability': 0.5000636249996565, 'question': None, 'meta': {'newsgroups_text': \"\\n\\nWell, this is alt.atheism.  I hope you arent here to try to convert anyone.\\n\\n\\nMany would disagree.\\n\\n[...]\\n\\nWell, you shouldn't give any particular book too much weight.  Actually,\\nI don't think that any of these statements is correct.  It is more likely\\nthat most of Jesus' fame was attributed to him after his death by those\\nwho had some strong motives...\\n\\n[...]\\n\\nWhat's a prophecy, and what's so significant about them?\\n\\n\\nI think we understand.\\n\\n\\nWell, sell your computer and donate you life to your religion now...\\nDon't waste any time.\"}, 'embedding': None},\n",
       " {'text': '\\n\\n\\nAre you your own master?  Do you have any habits that you cannot break?\\nFor one, you seem unable to master your lack of desire to understand\\neven the slightest concept of the Bible.  Seems that ignorance has you\\nmastered.  How about sexual sins?  Gotta any of those secret desires\\nin your head that you harbor but can get control of?   Do you dehumanize\\nwomen when they walk past you?  Do you degrade them to a sex object in\\nyour head?  Are you the master of that kind of thinking?  Do you insult\\npeople unknowingly, then regret it later.  Yet do it again the next\\ntime opportunity presents itself?  Are you truly the master of yourself?\\n\\nI have admitted that I am not the master of my thought life at all times.\\nThat I sometimes say things I do want to say, and then repeat my mistake\\nunwantingly.  I have admitted to myself that I cannot control every aspect\\nof my being.  There are times I know I shouldn\\'t say something, but\\nthen say it anyway.  There are times I simply forget a lesson.\\nI, in fact, am not my own master.  I need help.  Jesus promised me\\nthis help.  And I took him up on his offer.  I have willfully let\\nJesus be my master because Jesus knows what is better for me than\\nI myself do.  And why not?  Does not the creator know his creation\\nbetter than the creation?  Does Toyota know what\\'s better for the\\nCorolla than the Corolla?\\n\\n\\nThen I guess ignorance is bliss for you.  Because Brian, you enjoy\\nnot having a clue about the Bible.   \\n\\n\\n\\nCan you witness motherly love with your senses?  How does caring and\\nconcern for you register with your senses?  If nothing registers\\nto you other than what you can see, taste, smell, hear and touch,\\nthen you better become a Vulcan and fast.  You better get rid\\nof your emotions.\\n\\nAnd I do have a good reason to believe what I do.\\n\\n\\n\\nThe topic was about my God and your lack of knowledge about what my\\nGod says.   My God says that you will not CEASE EXISTING.  You have\\nlife forever.  You can choose to either live it in hell in eternal\\ntorment where there is no communication whatsoever, or can choose to \\nlive it in paradise with God.  That is what my God says.  And that\\nwas the issue.  Your made-up theism is what it is--made up.  It\\'s\\nwishful thinking.\\n \\n\\nIs this the religion of Kendigianism?  Most people are not Christian.  Most\\npeople, including Christians,  are not fond of feeling that they\\nare imperfect.  Is \"the world an undesireable place\" a doctrine\\nof Kendigianism?  It has nothing to do with my God.  Does\\nKendigism have magical mystical prayers as a part of its worship?\\nMine doesn\\'t.  Does Kendigianism believe that the world will be holy again?  \\nMine doesn\\'t.  Does Kendigianism also dictate that one must obey what the\\npriest tells them like good little sheep?  Mine doesn\\'t.  Is this\\na bunch of lies you tell yourself so that you can justify being \\nignorant of the Bible?\\n\\nBrian, following Christ has nothing to do with the doctrines of Kendigianism.\\nYou would find any of your doctrines in the Bible.   I don\\'t follow Kendigianism.\\nI follow Christ.   Also, to try to again show you your ignorance\\nof Christ and the Bible in regards to \"priests\",  have you not read about\\nthe sole Melchizedek priest in Hebrews 7 and 8?  Have you not read what the\\npurpose is of the Old Testament Levitical priesthood and why there should\\nNOT be priests today?  Yes, guess what?  The Catholics messed up.  I do\\nnot follow Catholicism or any \"ism.\"  I follow Christ.\\n\\n\\nWhy would you want to live a good life?\\nTo you, you die and that\\'s it.  Don\\'t contradict yourself.  You have\\nno reason to live a good life.  It doesn\\'t do you any good in the\\nend.  Your life doesn\\'t do anybody else any good  either because\\neveryone dies anyway.  So you have no reason to lead a good life. Leading\\na good life is meaningless.   Why do you do such a meaningless thing?\\n\\n\\nHas the resurrection sunk in?  Jesus is alive.  Jesus is NOT dead.\\nJesus was sacrified to fufill the Old Testament sacrificial system\\nin its every detail.  Jesus\\'s death was like a seed.  He needed\\nto fall to the ground so that many new lives would take root.  Did\\nyou miss the entire John passage as well?  \\n\\n\\n\\nForget that I am a person.  Forget that I know how to type.  Forget\\nthat I know how to put a sentence together.  Forget that I know\\nhow to send e-mail.   Forget my existence.  Proove to me that I\\nexist.  .\\n', 'id': '63beb515-9524-42bb-988b-65162d38f2ac', 'score': 0.025150000000053296, 'probability': 0.5000628749996687, 'question': None, 'meta': {'newsgroups_text': '\\n\\n\\nAre you your own master?  Do you have any habits that you cannot break?\\nFor one, you seem unable to master your lack of desire to understand\\neven the slightest concept of the Bible.  Seems that ignorance has you\\nmastered.  How about sexual sins?  Gotta any of those secret desires\\nin your head that you harbor but can get control of?   Do you dehumanize\\nwomen when they walk past you?  Do you degrade them to a sex object in\\nyour head?  Are you the master of that kind of thinking?  Do you insult\\npeople unknowingly, then regret it later.  Yet do it again the next\\ntime opportunity presents itself?  Are you truly the master of yourself?\\n\\nI have admitted that I am not the master of my thought life at all times.\\nThat I sometimes say things I do want to say, and then repeat my mistake\\nunwantingly.  I have admitted to myself that I cannot control every aspect\\nof my being.  There are times I know I shouldn\\'t say something, but\\nthen say it anyway.  There are times I simply forget a lesson.\\nI, in fact, am not my own master.  I need help.  Jesus promised me\\nthis help.  And I took him up on his offer.  I have willfully let\\nJesus be my master because Jesus knows what is better for me than\\nI myself do.  And why not?  Does not the creator know his creation\\nbetter than the creation?  Does Toyota know what\\'s better for the\\nCorolla than the Corolla?\\n\\n\\nThen I guess ignorance is bliss for you.  Because Brian, you enjoy\\nnot having a clue about the Bible.   \\n\\n\\n\\nCan you witness motherly love with your senses?  How does caring and\\nconcern for you register with your senses?  If nothing registers\\nto you other than what you can see, taste, smell, hear and touch,\\nthen you better become a Vulcan and fast.  You better get rid\\nof your emotions.\\n\\nAnd I do have a good reason to believe what I do.\\n\\n\\n\\nThe topic was about my God and your lack of knowledge about what my\\nGod says.   My God says that you will not CEASE EXISTING.  You have\\nlife forever.  You can choose to either live it in hell in eternal\\ntorment where there is no communication whatsoever, or can choose to \\nlive it in paradise with God.  That is what my God says.  And that\\nwas the issue.  Your made-up theism is what it is--made up.  It\\'s\\nwishful thinking.\\n \\n\\nIs this the religion of Kendigianism?  Most people are not Christian.  Most\\npeople, including Christians,  are not fond of feeling that they\\nare imperfect.  Is \"the world an undesireable place\" a doctrine\\nof Kendigianism?  It has nothing to do with my God.  Does\\nKendigism have magical mystical prayers as a part of its worship?\\nMine doesn\\'t.  Does Kendigianism believe that the world will be holy again?  \\nMine doesn\\'t.  Does Kendigianism also dictate that one must obey what the\\npriest tells them like good little sheep?  Mine doesn\\'t.  Is this\\na bunch of lies you tell yourself so that you can justify being \\nignorant of the Bible?\\n\\nBrian, following Christ has nothing to do with the doctrines of Kendigianism.\\nYou would find any of your doctrines in the Bible.   I don\\'t follow Kendigianism.\\nI follow Christ.   Also, to try to again show you your ignorance\\nof Christ and the Bible in regards to \"priests\",  have you not read about\\nthe sole Melchizedek priest in Hebrews 7 and 8?  Have you not read what the\\npurpose is of the Old Testament Levitical priesthood and why there should\\nNOT be priests today?  Yes, guess what?  The Catholics messed up.  I do\\nnot follow Catholicism or any \"ism.\"  I follow Christ.\\n\\n\\nWhy would you want to live a good life?\\nTo you, you die and that\\'s it.  Don\\'t contradict yourself.  You have\\nno reason to live a good life.  It doesn\\'t do you any good in the\\nend.  Your life doesn\\'t do anybody else any good  either because\\neveryone dies anyway.  So you have no reason to lead a good life. Leading\\na good life is meaningless.   Why do you do such a meaningless thing?\\n\\n\\nHas the resurrection sunk in?  Jesus is alive.  Jesus is NOT dead.\\nJesus was sacrified to fufill the Old Testament sacrificial system\\nin its every detail.  Jesus\\'s death was like a seed.  He needed\\nto fall to the ground so that many new lives would take root.  Did\\nyou miss the entire John passage as well?  \\n\\n\\n\\nForget that I am a person.  Forget that I know how to type.  Forget\\nthat I know how to put a sentence together.  Forget that I know\\nhow to send e-mail.   Forget my existence.  Proove to me that I\\nexist.  .\\n'}, 'embedding': None},\n",
       " {'text': \"\\n\\n\\n\\n\\n\\n\\nYeah, do you expect people to read the FAQ, etc. and actually accept hard\\natheism?  No, you need a little leap of faith, Jimmy.  Your logic runs out\\nof steam!\\n\\n\\n\\n\\n\\n\\n\\nJim,\\n\\nSorry I can't pity you, Jim.  And I'm sorry that you have these feelings of\\ndenial about the faith you need to get by.  Oh well, just pretend that it will\\nall end happily ever after anyway.  Maybe if you start a new newsgroup,\\nalt.atheist.hard, you won't be bummin' so much?\\n\\n\\n\\n\\n\\n\\nBye-Bye, Big Jim.  Don't forget your Flintstone's Chewables!  :) \\n--\\nBake Timmons, III\", 'id': 'f14e127d-b091-436e-923f-bff5f33959c4', 'score': 0.024400000000014188, 'probability': 0.5000609999996973, 'question': None, 'meta': {'newsgroups_text': \"\\n\\n\\n\\n\\n\\n\\nYeah, do you expect people to read the FAQ, etc. and actually accept hard\\natheism?  No, you need a little leap of faith, Jimmy.  Your logic runs out\\nof steam!\\n\\n\\n\\n\\n\\n\\n\\nJim,\\n\\nSorry I can't pity you, Jim.  And I'm sorry that you have these feelings of\\ndenial about the faith you need to get by.  Oh well, just pretend that it will\\nall end happily ever after anyway.  Maybe if you start a new newsgroup,\\nalt.atheist.hard, you won't be bummin' so much?\\n\\n\\n\\n\\n\\n\\nBye-Bye, Big Jim.  Don't forget your Flintstone's Chewables!  :) \\n--\\nBake Timmons, III\"}, 'embedding': None},\n",
       " {'text': '\\n\\n\\nAre you your own master?  Do you have any habits that you cannot break?\\nFor one, you seem unable to master your lack of desire to understand\\neven the slightest concept of the Bible.  Seems that ignorance has you\\nmastered.  How about sexual sins?  Gotta any of those secret desires\\nin your head that you harbor but can get control of?   Do you dehumanize\\nwomen when they walk past you?  Do you degrade them to a sex object in\\nyour head?  Are you the master of that kind of thinking?  Do you insult\\npeople unknowingly, then regret it later.  Yet do it again the next\\ntime opportunity presents itself?  Are you truly the master of yourself?\\n\\nI have admitted that I am not the master of my thought life at all times.\\nThat I sometimes say things I do want to say, and then repeat my mistake\\nunwantingly.  I have admitted to myself that I cannot control every aspect\\nof my being.  There are times I know I shouldn\\'t say something, but\\nthen say it anyway.  There are times I simply forget a lesson.\\nI, in fact, am not my own master.  I need help.  Jesus promised me\\nthis help.  And I took him up on his offer.  I have willfully let\\nJesus be my master because Jesus knows what is better for me than\\nI myself do.  And why not?  Does not the creator know his creation\\nbetter than the creation?  Does Toyota know what\\'s better for the\\nCorolla than the Corolla?\\n\\n\\nThen I guess ignorance is bliss for you.  Because Brian, you enjoy\\nnot having a clue about the Bible.   \\n\\n\\n\\nCan you witness motherly love with your senses?  How does caring and\\nconcern for you register with your senses?  If nothing registers\\nto you other than what you can see, taste, smell, hear and touch,\\nthen you better become a Vulcan and fast.  You better get rid\\nof your emotions.\\n\\nAnd I do have a good reason to believe what I do.\\n\\n\\n\\nThe topic was about my God and your lack of knowledge about what my\\nGod says.   My God says that you will not CEASE EXISTING.  You have\\nlife forever.  You can choose to either live it in hell in eternal\\ntorment where there is no communication whatsoever, or can choose to \\nlive it in paradise with God.  That is what my God says.  And that\\nwas the issue.  Your made-up theism is what it is--made up.  It\\'s\\nwishful thinking.\\n \\n\\nIs this the religion of Kendigianism?  Most people are not Christian.  Most\\npeople, including Christians,  are not fond of feeling that they\\nare imperfect.  Is \"the world an undesireable place\" a doctrine\\nof Kendigianism?  It has nothing to do with my God.  Does\\nKendigism have magical mystical prayers as a part of its worship?\\nMine doesn\\'t.  Does Kendigianism believe that the world will be holy again?  \\nMine doesn\\'t.  Does Kendigianism also dictate that one must obey what the\\npriest tells them like good little sheep?  Mine doesn\\'t.  Is this\\na bunch of lies you tell yourself so that you can justify being \\nignorant of the Bible?\\n\\nBrian, following Christ has nothing to do with the doctrines of Kendigianism.\\nYou would find any of your doctrines in the Bible.   I don\\'t follow Kendigianism.\\nI follow Christ.   Also, to try to again show you your ignorance\\nof Christ and the Bible in regards to \"priests\",  have you not read about\\nthe sole Melchizedek priest in Hebrews 7 and 8?  Have you not read what the\\npurpose is of the Old Testament Levitical priesthood and why there should\\nNOT be priests today?  Yes, guess what?  The Catholics messed up.  I do\\nnot follow Catholicism or any \"ism.\"  I follow Christ.\\n\\n\\nWhy would you want to live a good life?\\nTo you, you die and that\\'s it.  Don\\'t contradict yourself.  You have\\nno reason to live a good life.  It doesn\\'t do you any good in the\\nend.  Your life doesn\\'t do anybody else any good  either because\\neveryone dies anyway.  So you have no reason to lead a good life. Leading\\na good life is meaningless.   Why do you do such a meaningless thing?\\n\\n\\nHas the resurrection sunk in?  Jesus is alive.  Jesus is NOT dead.\\nJesus was sacrified to fufill the Old Testament sacrificial system\\nin its every detail.  Jesus\\'s death was like a seed.  He needed\\nto fall to the ground so that many new lives would take root.  Did\\nyou miss the entire John passage as well?  \\n\\n\\n\\nForget that I am a person.  Forget that I know how to type.  Forget\\nthat I know how to put a sentence together.  Forget that I know\\nhow to send e-mail.   Forget my existence.  Proove to me that I\\nexist.  .\\n', 'id': '35467650-3b5e-46a3-854b-2e43c4462478', 'score': 0.02344000000005053, 'probability': 0.5000585999997318, 'question': None, 'meta': {'newsgroups_text': '\\n\\n\\nAre you your own master?  Do you have any habits that you cannot break?\\nFor one, you seem unable to master your lack of desire to understand\\neven the slightest concept of the Bible.  Seems that ignorance has you\\nmastered.  How about sexual sins?  Gotta any of those secret desires\\nin your head that you harbor but can get control of?   Do you dehumanize\\nwomen when they walk past you?  Do you degrade them to a sex object in\\nyour head?  Are you the master of that kind of thinking?  Do you insult\\npeople unknowingly, then regret it later.  Yet do it again the next\\ntime opportunity presents itself?  Are you truly the master of yourself?\\n\\nI have admitted that I am not the master of my thought life at all times.\\nThat I sometimes say things I do want to say, and then repeat my mistake\\nunwantingly.  I have admitted to myself that I cannot control every aspect\\nof my being.  There are times I know I shouldn\\'t say something, but\\nthen say it anyway.  There are times I simply forget a lesson.\\nI, in fact, am not my own master.  I need help.  Jesus promised me\\nthis help.  And I took him up on his offer.  I have willfully let\\nJesus be my master because Jesus knows what is better for me than\\nI myself do.  And why not?  Does not the creator know his creation\\nbetter than the creation?  Does Toyota know what\\'s better for the\\nCorolla than the Corolla?\\n\\n\\nThen I guess ignorance is bliss for you.  Because Brian, you enjoy\\nnot having a clue about the Bible.   \\n\\n\\n\\nCan you witness motherly love with your senses?  How does caring and\\nconcern for you register with your senses?  If nothing registers\\nto you other than what you can see, taste, smell, hear and touch,\\nthen you better become a Vulcan and fast.  You better get rid\\nof your emotions.\\n\\nAnd I do have a good reason to believe what I do.\\n\\n\\n\\nThe topic was about my God and your lack of knowledge about what my\\nGod says.   My God says that you will not CEASE EXISTING.  You have\\nlife forever.  You can choose to either live it in hell in eternal\\ntorment where there is no communication whatsoever, or can choose to \\nlive it in paradise with God.  That is what my God says.  And that\\nwas the issue.  Your made-up theism is what it is--made up.  It\\'s\\nwishful thinking.\\n \\n\\nIs this the religion of Kendigianism?  Most people are not Christian.  Most\\npeople, including Christians,  are not fond of feeling that they\\nare imperfect.  Is \"the world an undesireable place\" a doctrine\\nof Kendigianism?  It has nothing to do with my God.  Does\\nKendigism have magical mystical prayers as a part of its worship?\\nMine doesn\\'t.  Does Kendigianism believe that the world will be holy again?  \\nMine doesn\\'t.  Does Kendigianism also dictate that one must obey what the\\npriest tells them like good little sheep?  Mine doesn\\'t.  Is this\\na bunch of lies you tell yourself so that you can justify being \\nignorant of the Bible?\\n\\nBrian, following Christ has nothing to do with the doctrines of Kendigianism.\\nYou would find any of your doctrines in the Bible.   I don\\'t follow Kendigianism.\\nI follow Christ.   Also, to try to again show you your ignorance\\nof Christ and the Bible in regards to \"priests\",  have you not read about\\nthe sole Melchizedek priest in Hebrews 7 and 8?  Have you not read what the\\npurpose is of the Old Testament Levitical priesthood and why there should\\nNOT be priests today?  Yes, guess what?  The Catholics messed up.  I do\\nnot follow Catholicism or any \"ism.\"  I follow Christ.\\n\\n\\nWhy would you want to live a good life?\\nTo you, you die and that\\'s it.  Don\\'t contradict yourself.  You have\\nno reason to live a good life.  It doesn\\'t do you any good in the\\nend.  Your life doesn\\'t do anybody else any good  either because\\neveryone dies anyway.  So you have no reason to lead a good life. Leading\\na good life is meaningless.   Why do you do such a meaningless thing?\\n\\n\\nHas the resurrection sunk in?  Jesus is alive.  Jesus is NOT dead.\\nJesus was sacrified to fufill the Old Testament sacrificial system\\nin its every detail.  Jesus\\'s death was like a seed.  He needed\\nto fall to the ground so that many new lives would take root.  Did\\nyou miss the entire John passage as well?  \\n\\n\\n\\nForget that I am a person.  Forget that I know how to type.  Forget\\nthat I know how to put a sentence together.  Forget that I know\\nhow to send e-mail.   Forget my existence.  Proove to me that I\\nexist.  .\\n'}, 'embedding': None},\n",
       " {'text': \"\\nI would hardly consider the BD's to be Christian.  They were acting in\\ndirect contradiction to scripture.  Jesus' Second Coming is something\\nthat everyone will know of.  Jesus also predicted that there will be\\nfalse Messiahs who will use His name.  His prophecy has been fulfilled.\\n\\n\\nI agree with you there.\\n \\n\\nMe too.  I have already given my life to God.  If God tells me to lay\\ndown my life, it will be to save another life.\\n \\n\\nDo you judge all Christians by the acts of those who would call\\nthemselves Christian and yet are not?  The BD's contradicted scripture\\nin their actions.  They were NOT Christian.  Simple as that.  Perhaps\\nyou have read too much into what the media has portrayed.  Ask any\\ntrue-believing Christian and you will find that they will deny any\\nassociation with the BD's.  Even the 7th Day Adventists have denied any\\nfurther ties with this cult, which was what they were.\\n\\nDo you judge all Muslims by the acts committed by Saddam Hussein, a \\nsupposedly devout Muslim?  I don't.  Saddam is just a dictator using\\nthe religious beliefs of his people to further his own ends.\\n\\nGod be with you,\\n\\nMalcolm Lee   :)\", 'id': '43bbc3d9-34c4-4b79-82d4-73f02a31e895', 'score': 0.021700000000009823, 'probability': 0.5000542499997872, 'question': None, 'meta': {'newsgroups_text': \"\\nI would hardly consider the BD's to be Christian.  They were acting in\\ndirect contradiction to scripture.  Jesus' Second Coming is something\\nthat everyone will know of.  Jesus also predicted that there will be\\nfalse Messiahs who will use His name.  His prophecy has been fulfilled.\\n\\n\\nI agree with you there.\\n \\n\\nMe too.  I have already given my life to God.  If God tells me to lay\\ndown my life, it will be to save another life.\\n \\n\\nDo you judge all Christians by the acts of those who would call\\nthemselves Christian and yet are not?  The BD's contradicted scripture\\nin their actions.  They were NOT Christian.  Simple as that.  Perhaps\\nyou have read too much into what the media has portrayed.  Ask any\\ntrue-believing Christian and you will find that they will deny any\\nassociation with the BD's.  Even the 7th Day Adventists have denied any\\nfurther ties with this cult, which was what they were.\\n\\nDo you judge all Muslims by the acts committed by Saddam Hussein, a \\nsupposedly devout Muslim?  I don't.  Saddam is just a dictator using\\nthe religious beliefs of his people to further his own ends.\\n\\nGod be with you,\\n\\nMalcolm Lee   :)\"}, 'embedding': None},\n",
       " {'text': \"Has anyone done a model of the 52 pin version of the 68hc11?  It doesn't\\nseem to be too big a job, but if someone else has already done it ...\", 'id': '50046bf7-654c-4f3f-bdb2-ef3809a721ed', 'score': 0.02149999999994634, 'probability': 0.5000537499997928, 'question': None, 'meta': {'newsgroups_text': \"Has anyone done a model of the 52 pin version of the 68hc11?  It doesn't\\nseem to be too big a job, but if someone else has already done it ...\"}, 'embedding': None},\n",
       " {'text': \"\\n[deleted] \\n\\nI am glad that I am not an atheist.  It seems tragic that some people \\nchoose a meaningless existence.  How terrible to go on living only \\nbecause one fears death more than life.  I feel so sorry for Eric and \\nyet any attempts to share my joy in life with him would be considered as \\nfurther evidence of the infectious nature of Christianity.    \\n\\nAs a Christian I am free to be a human person.  I think, love, choose, \\nand create.  I will live forever with God.\\n\\nChrist is not a kind of drug.  Drugs are a replacement for Christ.  \\nThose who have an empty spot in the God-shaped hole in their hearts must \\ndo something to ease the pain.  This is why the most effective \\nsubstance-abuse recovery programs involve meeting peoples' spiritual \\nneeds.\\n\\nThank you, Eric for your post.  It has helped me to appreciate how much \\nGod has blessed me.  I hope that you will someday have a more joy-filled \\nand abundant life.\", 'id': 'dc4beff9-c4af-4201-b2c2-76b00d5013a4', 'score': 0.021359999999958745, 'probability': 0.5000533999997968, 'question': None, 'meta': {'newsgroups_text': \"\\n[deleted] \\n\\nI am glad that I am not an atheist.  It seems tragic that some people \\nchoose a meaningless existence.  How terrible to go on living only \\nbecause one fears death more than life.  I feel so sorry for Eric and \\nyet any attempts to share my joy in life with him would be considered as \\nfurther evidence of the infectious nature of Christianity.    \\n\\nAs a Christian I am free to be a human person.  I think, love, choose, \\nand create.  I will live forever with God.\\n\\nChrist is not a kind of drug.  Drugs are a replacement for Christ.  \\nThose who have an empty spot in the God-shaped hole in their hearts must \\ndo something to ease the pain.  This is why the most effective \\nsubstance-abuse recovery programs involve meeting peoples' spiritual \\nneeds.\\n\\nThank you, Eric for your post.  It has helped me to appreciate how much \\nGod has blessed me.  I hope that you will someday have a more joy-filled \\nand abundant life.\"}, 'embedding': None},\n",
       " {'text': \"As I was created in the image of Gaea, therefore I must\\nbe the pinnacle of creation, She which Creates, She which\\nBirths, She which Continues.\\n\\nOr, to cut all the religious crap, I'm a woman, thanks.\\nAnd it's sexism that started me on the road to atheism.\\n\\n-- \\nMaddi Hausmann                       madhaus@netcom.com\\nCentigram Communications Corp        San Jose California  408/428-3553\", 'id': '1608edd0-91de-47ef-ba20-f89bb2f6df72', 'score': 0.02075000000002092, 'probability': 0.500051874999814, 'question': None, 'meta': {'newsgroups_text': \"As I was created in the image of Gaea, therefore I must\\nbe the pinnacle of creation, She which Creates, She which\\nBirths, She which Continues.\\n\\nOr, to cut all the religious crap, I'm a woman, thanks.\\nAnd it's sexism that started me on the road to atheism.\\n\\n-- \\nMaddi Hausmann                       madhaus@netcom.com\\nCentigram Communications Corp        San Jose California  408/428-3553\"}, 'embedding': None}]"
      ]
     },
     "execution_count": 11,
     "metadata": {},
     "output_type": "execute_result"
    }
   ],
   "source": [
    "sklearn_retriever.retrieve('atheism')"
   ]
  },
  {
   "cell_type": "markdown",
   "metadata": {},
   "source": [
    "## Advanced: PCR embeddings vectorizer\n",
    "\n",
    "For detailed description of method check out [A Critique of the Smooth Inverse Frequency Sentence Embeddings](https://arxiv.org/pdf/1909.13494.pdf)\n"
   ]
  },
  {
   "cell_type": "code",
   "execution_count": 12,
   "metadata": {},
   "outputs": [
    {
     "name": "stderr",
     "output_type": "stream",
     "text": [
      "02/21/2021 23:23:24 - INFO - gensim.models.utils_any2vec -   loading projection weights from /home/kuba/gensim-data/glove-twitter-50/glove-twitter-50.gz\n",
      "02/21/2021 23:24:00 - INFO - gensim.models.utils_any2vec -   loaded (1193514, 50) matrix from /home/kuba/gensim-data/glove-twitter-50/glove-twitter-50.gz\n"
     ]
    }
   ],
   "source": [
    "from mlutil.feature_extraction import embeddings\n",
    "\n",
    "word_embeddings = embeddings.load_gensim_embedding_model('glove-twitter-50')"
   ]
  },
  {
   "cell_type": "code",
   "execution_count": 13,
   "metadata": {},
   "outputs": [],
   "source": [
    "pcr_vectorizer = embeddings.PCREmbeddingVectorizer(word_embeddings)"
   ]
  },
  {
   "cell_type": "code",
   "execution_count": 14,
   "metadata": {},
   "outputs": [],
   "source": [
    "pcr_vectorizer.fit(df['newsgroups_text'])"
   ]
  },
  {
   "cell_type": "code",
   "execution_count": 15,
   "metadata": {},
   "outputs": [],
   "source": [
    "df['newsgroups_text_pcr'] = df['newsgroups_text']"
   ]
  },
  {
   "cell_type": "code",
   "execution_count": 16,
   "metadata": {},
   "outputs": [],
   "source": [
    "vectors = pcr_vectorizer.transform(df['newsgroups_text'])"
   ]
  },
  {
   "cell_type": "code",
   "execution_count": 17,
   "metadata": {},
   "outputs": [
    {
     "data": {
      "text/plain": [
       "(990, 50)"
      ]
     },
     "execution_count": 17,
     "metadata": {},
     "output_type": "execute_result"
    }
   ],
   "source": [
    "vectors.shape"
   ]
  },
  {
   "cell_type": "code",
   "execution_count": 18,
   "metadata": {},
   "outputs": [
    {
     "name": "stderr",
     "output_type": "stream",
     "text": [
      "02/21/2021 23:24:00 - INFO - elasticsearch -   HEAD http://localhost:9200/ [status:200 request:0.002s]\n",
      "02/21/2021 23:24:00 - INFO - elasticsearch -   HEAD http://localhost:9200/newsgroups_text_pcr [status:200 request:0.001s]\n",
      "02/21/2021 23:24:00 - INFO - elasticsearch -   GET http://localhost:9200/newsgroups_text_pcr [status:200 request:0.001s]\n",
      "02/21/2021 23:24:00 - INFO - elasticsearch -   PUT http://localhost:9200/newsgroups_text_pcr/_mapping [status:200 request:0.005s]\n",
      "02/21/2021 23:24:00 - INFO - elasticsearch -   HEAD http://localhost:9200/label [status:200 request:0.001s]\n",
      "02/21/2021 23:24:01 - INFO - elasticsearch -   POST http://localhost:9200/_bulk?refresh=wait_for [status:200 request:0.326s]\n",
      "02/21/2021 23:24:02 - INFO - elasticsearch -   POST http://localhost:9200/_bulk?refresh=wait_for [status:200 request:1.009s]\n"
     ]
    }
   ],
   "source": [
    "pcr_retriever = make_sklearn_retriever(df, pcr_vectorizer, col='newsgroups_text_pcr')"
   ]
  },
  {
   "cell_type": "code",
   "execution_count": 19,
   "metadata": {},
   "outputs": [
    {
     "name": "stderr",
     "output_type": "stream",
     "text": [
      "02/21/2021 23:24:02 - INFO - elasticsearch -   POST http://localhost:9200/newsgroups_text_pcr/_search [status:200 request:0.009s]\n"
     ]
    },
    {
     "data": {
      "text/plain": [
       "[{'text': '\\n\\n\\nAnd organized religion is a religion built from organized values.\\nAnd Ford Tempo is a Tempo built from Ford values.\\nAnd rational response is response built from rational values.\\nAnd unconditional surrender is surrender built from unconditional values.\\n    ^^^^^^^^^^^^^^^^^^^^^^^\\n          uncle!', 'id': '5b118c6d-9975-4877-8590-cd62f1cab78a', 'score': 4.266399999999976, 'probability': 0.510664382424982, 'question': None, 'meta': {'newsgroups_text_pcr': '\\n\\n\\nAnd organized religion is a religion built from organized values.\\nAnd Ford Tempo is a Tempo built from Ford values.\\nAnd rational response is response built from rational values.\\nAnd unconditional surrender is surrender built from unconditional values.\\n    ^^^^^^^^^^^^^^^^^^^^^^^\\n          uncle!', 'newsgroups_text': '\\n\\n\\nAnd organized religion is a religion built from organized values.\\nAnd Ford Tempo is a Tempo built from Ford values.\\nAnd rational response is response built from rational values.\\nAnd unconditional surrender is surrender built from unconditional values.\\n    ^^^^^^^^^^^^^^^^^^^^^^^\\n          uncle!'}, 'embedding': None},\n",
       " {'text': '\\n\\n\\nAnd organized religion is a religion built from organized values.\\nAnd Ford Tempo is a Tempo built from Ford values.\\nAnd rational response is response built from rational values.\\nAnd unconditional surrender is surrender built from unconditional values.\\n    ^^^^^^^^^^^^^^^^^^^^^^^\\n          uncle!', 'id': '77d5e90d-0ee0-4c8f-b5a8-1f58d640b1a9', 'score': 4.266399999999976, 'probability': 0.510664382424982, 'question': None, 'meta': {'newsgroups_text_pcr': '\\n\\n\\nAnd organized religion is a religion built from organized values.\\nAnd Ford Tempo is a Tempo built from Ford values.\\nAnd rational response is response built from rational values.\\nAnd unconditional surrender is surrender built from unconditional values.\\n    ^^^^^^^^^^^^^^^^^^^^^^^\\n          uncle!', 'newsgroups_text': '\\n\\n\\nAnd organized religion is a religion built from organized values.\\nAnd Ford Tempo is a Tempo built from Ford values.\\nAnd rational response is response built from rational values.\\nAnd unconditional surrender is surrender built from unconditional values.\\n    ^^^^^^^^^^^^^^^^^^^^^^^\\n          uncle!'}, 'embedding': None},\n",
       " {'text': \"\\nWell, this particular thread of vituperation slopped its venom over\\ninto alt.atheism, where we spend most of our time entertaining\\narguments against our belief system, without resorting to accusing\\nothers of bigotry.  It's somewhat ironic that our exposure to bigotry\\nhappens in this instance to have originated in rec.scouting, since I\\nalways understood scouting to teach tolerance and diversity.  I\\nunderstand bigotry to be irrational prejudice against other people who\\nhappen to be of a different race, religion, ethnic background, sex, or\\nother inconsequential characteristics.  All the evidence I've seen\\nindicates that sexual orientation and lack of belief in gods are\\nexactly such inconsequential characteristics.  Thus, pending further\\nevidence, I conclude that those who show prejudice against such people\\nare bigots, and organizations that exclude such people are\\ndiscriminatory.\", 'id': '66f0c07e-f7b0-4fb1-b733-78794854489a', 'score': 2.7356600000000526, 'probability': 0.5068387235062974, 'question': None, 'meta': {'newsgroups_text_pcr': \"\\nWell, this particular thread of vituperation slopped its venom over\\ninto alt.atheism, where we spend most of our time entertaining\\narguments against our belief system, without resorting to accusing\\nothers of bigotry.  It's somewhat ironic that our exposure to bigotry\\nhappens in this instance to have originated in rec.scouting, since I\\nalways understood scouting to teach tolerance and diversity.  I\\nunderstand bigotry to be irrational prejudice against other people who\\nhappen to be of a different race, religion, ethnic background, sex, or\\nother inconsequential characteristics.  All the evidence I've seen\\nindicates that sexual orientation and lack of belief in gods are\\nexactly such inconsequential characteristics.  Thus, pending further\\nevidence, I conclude that those who show prejudice against such people\\nare bigots, and organizations that exclude such people are\\ndiscriminatory.\", 'newsgroups_text': \"\\nWell, this particular thread of vituperation slopped its venom over\\ninto alt.atheism, where we spend most of our time entertaining\\narguments against our belief system, without resorting to accusing\\nothers of bigotry.  It's somewhat ironic that our exposure to bigotry\\nhappens in this instance to have originated in rec.scouting, since I\\nalways understood scouting to teach tolerance and diversity.  I\\nunderstand bigotry to be irrational prejudice against other people who\\nhappen to be of a different race, religion, ethnic background, sex, or\\nother inconsequential characteristics.  All the evidence I've seen\\nindicates that sexual orientation and lack of belief in gods are\\nexactly such inconsequential characteristics.  Thus, pending further\\nevidence, I conclude that those who show prejudice against such people\\nare bigots, and organizations that exclude such people are\\ndiscriminatory.\"}, 'embedding': None},\n",
       " {'text': \"\\nWell, this particular thread of vituperation slopped its venom over\\ninto alt.atheism, where we spend most of our time entertaining\\narguments against our belief system, without resorting to accusing\\nothers of bigotry.  It's somewhat ironic that our exposure to bigotry\\nhappens in this instance to have originated in rec.scouting, since I\\nalways understood scouting to teach tolerance and diversity.  I\\nunderstand bigotry to be irrational prejudice against other people who\\nhappen to be of a different race, religion, ethnic background, sex, or\\nother inconsequential characteristics.  All the evidence I've seen\\nindicates that sexual orientation and lack of belief in gods are\\nexactly such inconsequential characteristics.  Thus, pending further\\nevidence, I conclude that those who show prejudice against such people\\nare bigots, and organizations that exclude such people are\\ndiscriminatory.\", 'id': 'e7edc2e7-64e6-4047-bf09-4c4eb2c6d3de', 'score': 2.7356600000000526, 'probability': 0.5068387235062974, 'question': None, 'meta': {'newsgroups_text_pcr': \"\\nWell, this particular thread of vituperation slopped its venom over\\ninto alt.atheism, where we spend most of our time entertaining\\narguments against our belief system, without resorting to accusing\\nothers of bigotry.  It's somewhat ironic that our exposure to bigotry\\nhappens in this instance to have originated in rec.scouting, since I\\nalways understood scouting to teach tolerance and diversity.  I\\nunderstand bigotry to be irrational prejudice against other people who\\nhappen to be of a different race, religion, ethnic background, sex, or\\nother inconsequential characteristics.  All the evidence I've seen\\nindicates that sexual orientation and lack of belief in gods are\\nexactly such inconsequential characteristics.  Thus, pending further\\nevidence, I conclude that those who show prejudice against such people\\nare bigots, and organizations that exclude such people are\\ndiscriminatory.\", 'newsgroups_text': \"\\nWell, this particular thread of vituperation slopped its venom over\\ninto alt.atheism, where we spend most of our time entertaining\\narguments against our belief system, without resorting to accusing\\nothers of bigotry.  It's somewhat ironic that our exposure to bigotry\\nhappens in this instance to have originated in rec.scouting, since I\\nalways understood scouting to teach tolerance and diversity.  I\\nunderstand bigotry to be irrational prejudice against other people who\\nhappen to be of a different race, religion, ethnic background, sex, or\\nother inconsequential characteristics.  All the evidence I've seen\\nindicates that sexual orientation and lack of belief in gods are\\nexactly such inconsequential characteristics.  Thus, pending further\\nevidence, I conclude that those who show prejudice against such people\\nare bigots, and organizations that exclude such people are\\ndiscriminatory.\"}, 'embedding': None},\n",
       " {'text': 'True.\\n\\nAlso read 2 Peter 3:16\\n\\nPeter warns that the scriptures are often hard to understand by those who\\nare not learned on the subject.', 'id': '6a23ab52-1681-4095-bd0d-0a6d27231c54', 'score': 2.5067999999999984, 'probability': 0.506266671836307, 'question': None, 'meta': {'newsgroups_text_pcr': 'True.\\n\\nAlso read 2 Peter 3:16\\n\\nPeter warns that the scriptures are often hard to understand by those who\\nare not learned on the subject.', 'newsgroups_text': 'True.\\n\\nAlso read 2 Peter 3:16\\n\\nPeter warns that the scriptures are often hard to understand by those who\\nare not learned on the subject.'}, 'embedding': None},\n",
       " {'text': 'True.\\n\\nAlso read 2 Peter 3:16\\n\\nPeter warns that the scriptures are often hard to understand by those who\\nare not learned on the subject.', 'id': '8778da1c-fa02-4a92-8545-d245f1465d7e', 'score': 2.5067999999999984, 'probability': 0.506266671836307, 'question': None, 'meta': {'newsgroups_text_pcr': 'True.\\n\\nAlso read 2 Peter 3:16\\n\\nPeter warns that the scriptures are often hard to understand by those who\\nare not learned on the subject.', 'newsgroups_text': 'True.\\n\\nAlso read 2 Peter 3:16\\n\\nPeter warns that the scriptures are often hard to understand by those who\\nare not learned on the subject.'}, 'embedding': None},\n",
       " {'text': 'Another guess to your salvation riddle would be \"saved\".', 'id': 'e685862b-a9f7-4d82-b69d-f8cf7d2de987', 'score': 2.348700000000008, 'probability': 0.5058714800909484, 'question': None, 'meta': {'newsgroups_text_pcr': 'Another guess to your salvation riddle would be \"saved\".', 'newsgroups_text': 'Another guess to your salvation riddle would be \"saved\".'}, 'embedding': None},\n",
       " {'text': 'Another guess to your salvation riddle would be \"saved\".', 'id': 'fefe02ee-89c9-43ae-8194-afce0eaad657', 'score': 2.348700000000008, 'probability': 0.5058714800909484, 'question': None, 'meta': {'newsgroups_text_pcr': 'Another guess to your salvation riddle would be \"saved\".', 'newsgroups_text': 'Another guess to your salvation riddle would be \"saved\".'}, 'embedding': None},\n",
       " {'text': \"\\n\\nYep.  There's truth in all those religions, even in science.   \\nChristianity doesn't claim to know it all.  It does claim certain  \\nthings are true though that contradict other religions' truth claims.   \\nSo they can't all be true.\\n\", 'id': 'ccf81571-470d-4ecd-b728-bec5083f808b', 'score': 2.3401000000000067, 'probability': 0.5058499830448947, 'question': None, 'meta': {'newsgroups_text_pcr': \"\\n\\nYep.  There's truth in all those religions, even in science.   \\nChristianity doesn't claim to know it all.  It does claim certain  \\nthings are true though that contradict other religions' truth claims.   \\nSo they can't all be true.\\n\", 'newsgroups_text': \"\\n\\nYep.  There's truth in all those religions, even in science.   \\nChristianity doesn't claim to know it all.  It does claim certain  \\nthings are true though that contradict other religions' truth claims.   \\nSo they can't all be true.\\n\"}, 'embedding': None},\n",
       " {'text': \"\\n\\nYep.  There's truth in all those religions, even in science.   \\nChristianity doesn't claim to know it all.  It does claim certain  \\nthings are true though that contradict other religions' truth claims.   \\nSo they can't all be true.\\n\", 'id': '4b4a20ef-0a8f-4dbb-9ae0-cf74f9bd9291', 'score': 2.3401000000000067, 'probability': 0.5058499830448947, 'question': None, 'meta': {'newsgroups_text_pcr': \"\\n\\nYep.  There's truth in all those religions, even in science.   \\nChristianity doesn't claim to know it all.  It does claim certain  \\nthings are true though that contradict other religions' truth claims.   \\nSo they can't all be true.\\n\", 'newsgroups_text': \"\\n\\nYep.  There's truth in all those religions, even in science.   \\nChristianity doesn't claim to know it all.  It does claim certain  \\nthings are true though that contradict other religions' truth claims.   \\nSo they can't all be true.\\n\"}, 'embedding': None}]"
      ]
     },
     "execution_count": 19,
     "metadata": {},
     "output_type": "execute_result"
    }
   ],
   "source": [
    "pcr_retriever.retrieve('atheism')"
   ]
  }
 ],
 "metadata": {
  "kernelspec": {
   "display_name": "Python 3",
   "language": "python",
   "name": "python3"
  },
  "language_info": {
   "codemirror_mode": {
    "name": "ipython",
    "version": 3
   },
   "file_extension": ".py",
   "mimetype": "text/x-python",
   "name": "python",
   "nbconvert_exporter": "python",
   "pygments_lexer": "ipython3",
   "version": "3.8.5"
  }
 },
 "nbformat": 4,
 "nbformat_minor": 4
}
