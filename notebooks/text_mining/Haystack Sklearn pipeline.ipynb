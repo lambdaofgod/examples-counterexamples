{
 "cells": [
  {
   "cell_type": "code",
   "execution_count": 1,
   "metadata": {},
   "outputs": [
    {
     "name": "stderr",
     "output_type": "stream",
     "text": [
      "02/21/2021 17:16:15 - INFO - faiss -   Loading faiss with AVX2 support.\n",
      "02/21/2021 17:16:15 - INFO - faiss -   Loading faiss.\n",
      "02/21/2021 17:16:15 - INFO - farm.modeling.prediction_head -   Better speed can be achieved with apex installed from https://www.github.com/nvidia/apex .\n"
     ]
    }
   ],
   "source": [
    "\n",
    "import numpy as np\n",
    "from sklearn import pipeline, decomposition\n",
    "from sklearn import feature_extraction \n",
    "from sklearn.decomposition import NMF\n",
    "from sklearn.datasets import fetch_20newsgroups\n",
    "\n",
    "import haystack.document_store.memory\n",
    "import haystack.document_store.elasticsearch\n",
    "from haystack import document_store\n",
    "\n",
    "import haystack.retriever.dense\n",
    "from haystack import retriever\n",
    "import pandas as pd"
   ]
  },
  {
   "cell_type": "code",
   "execution_count": 2,
   "metadata": {},
   "outputs": [],
   "source": [
    "n_samples = 1000\n",
    "dataset = fetch_20newsgroups(shuffle=True, random_state=1,\n",
    "                             remove=('headers', 'footers', 'quotes'))\n",
    "\n",
    "data_train = dataset.data[:n_samples]\n",
    "data_test = dataset.data[n_samples:]"
   ]
  },
  {
   "cell_type": "code",
   "execution_count": 3,
   "metadata": {},
   "outputs": [],
   "source": [
    "pipe = pipeline.make_pipeline(\n",
    "    feature_extraction.text.TfidfVectorizer(),\n",
    "    decomposition.TruncatedSVD(n_components=100)\n",
    ")"
   ]
  },
  {
   "cell_type": "code",
   "execution_count": 4,
   "metadata": {},
   "outputs": [
    {
     "name": "stdout",
     "output_type": "stream",
     "text": [
      "CPU times: user 3.14 s, sys: 8.56 s, total: 11.7 s\n",
      "Wall time: 451 ms\n"
     ]
    },
    {
     "data": {
      "text/plain": [
       "Pipeline(memory=None,\n",
       "         steps=[('tfidfvectorizer',\n",
       "                 TfidfVectorizer(analyzer='word', binary=False,\n",
       "                                 decode_error='strict',\n",
       "                                 dtype=<class 'numpy.float64'>,\n",
       "                                 encoding='utf-8', input='content',\n",
       "                                 lowercase=True, max_df=1.0, max_features=None,\n",
       "                                 min_df=1, ngram_range=(1, 1), norm='l2',\n",
       "                                 preprocessor=None, smooth_idf=True,\n",
       "                                 stop_words=None, strip_accents=None,\n",
       "                                 sublinear_tf=False,\n",
       "                                 token_pattern='(?u)\\\\b\\\\w\\\\w+\\\\b',\n",
       "                                 tokenizer=None, use_idf=True,\n",
       "                                 vocabulary=None)),\n",
       "                ('truncatedsvd',\n",
       "                 TruncatedSVD(algorithm='randomized', n_components=100,\n",
       "                              n_iter=5, random_state=None, tol=0.0))],\n",
       "         verbose=False)"
      ]
     },
     "execution_count": 4,
     "metadata": {},
     "output_type": "execute_result"
    }
   ],
   "source": [
    "%%time\n",
    "pipe.fit(data_train)"
   ]
  },
  {
   "cell_type": "code",
   "execution_count": 5,
   "metadata": {},
   "outputs": [],
   "source": [
    "def get_embedding_dim(pipeline):\n",
    "    embedder = pipeline.steps[-1][1]\n",
    "    return embedder.components_.shape[0]\n",
    "\n",
    "\n",
    "def make_dicts_with_added_field(dicts, field_name, field_values):\n",
    "    for d, val in zip(dicts, field_values):\n",
    "        d[field_name] = val\n",
    "        yield d\n",
    "    \n",
    "\n",
    "def make_sklearn_retriever(df, pipeline, col='text'):\n",
    "    embedding_dim = get_embedding_dim(pipeline)\n",
    "    memory_docstring_store = document_store.elasticsearch.ElasticsearchDocumentStore(index=col, embedding_dim=embedding_dim)\n",
    "    df['text'] = df[col]\n",
    "    embeddings = pipeline.fit_transform(df['text'])\n",
    "    documents = df.to_dict('records')\n",
    "    dicts_with_added_fields = list(make_dicts_with_added_field(documents, 'embedding', embeddings))\n",
    "    memory_docstring_store.write_documents(dicts_with_added_fields)\n",
    "    return retriever.dense.SklearnPipelineRetriever(embedding_pipeline=pipeline, document_store=memory_docstring_store)"
   ]
  },
  {
   "cell_type": "code",
   "execution_count": 6,
   "metadata": {},
   "outputs": [],
   "source": [
    "df = pd.DataFrame({'newsgroups_text': data_train})"
   ]
  },
  {
   "cell_type": "code",
   "execution_count": 7,
   "metadata": {},
   "outputs": [],
   "source": [
    "df = df[~(df['newsgroups_text'].apply(len) > 10000)]"
   ]
  },
  {
   "cell_type": "code",
   "execution_count": 8,
   "metadata": {},
   "outputs": [
    {
     "data": {
      "text/plain": [
       "Pipeline(memory=None,\n",
       "         steps=[('tfidfvectorizer',\n",
       "                 TfidfVectorizer(analyzer='word', binary=False,\n",
       "                                 decode_error='strict',\n",
       "                                 dtype=<class 'numpy.float64'>,\n",
       "                                 encoding='utf-8', input='content',\n",
       "                                 lowercase=True, max_df=1.0, max_features=None,\n",
       "                                 min_df=1, ngram_range=(1, 1), norm='l2',\n",
       "                                 preprocessor=None, smooth_idf=True,\n",
       "                                 stop_words=None, strip_accents=None,\n",
       "                                 sublinear_tf=False,\n",
       "                                 token_pattern='(?u)\\\\b\\\\w\\\\w+\\\\b',\n",
       "                                 tokenizer=None, use_idf=True,\n",
       "                                 vocabulary=None)),\n",
       "                ('truncatedsvd',\n",
       "                 TruncatedSVD(algorithm='randomized', n_components=100,\n",
       "                              n_iter=5, random_state=None, tol=0.0))],\n",
       "         verbose=False)"
      ]
     },
     "execution_count": 8,
     "metadata": {},
     "output_type": "execute_result"
    }
   ],
   "source": [
    "pipe.fit(df['newsgroups_text'])"
   ]
  },
  {
   "cell_type": "code",
   "execution_count": 9,
   "metadata": {},
   "outputs": [
    {
     "name": "stderr",
     "output_type": "stream",
     "text": [
      "02/21/2021 17:16:17 - INFO - elasticsearch -   HEAD http://localhost:9200/ [status:200 request:0.002s]\n",
      "02/21/2021 17:16:17 - INFO - elasticsearch -   PUT http://localhost:9200/newsgroups_text [status:200 request:0.057s]\n",
      "02/21/2021 17:16:17 - INFO - elasticsearch -   HEAD http://localhost:9200/label [status:200 request:0.001s]\n",
      "02/21/2021 17:16:18 - INFO - elasticsearch -   POST http://localhost:9200/_bulk?refresh=wait_for [status:200 request:0.528s]\n",
      "02/21/2021 17:16:19 - INFO - elasticsearch -   POST http://localhost:9200/_bulk?refresh=wait_for [status:200 request:0.984s]\n"
     ]
    }
   ],
   "source": [
    "sklearn_retriever = make_sklearn_retriever(df, pipe, col='newsgroups_text')"
   ]
  },
  {
   "cell_type": "code",
   "execution_count": 10,
   "metadata": {},
   "outputs": [
    {
     "name": "stderr",
     "output_type": "stream",
     "text": [
      "02/21/2021 17:16:19 - INFO - elasticsearch -   POST http://localhost:9200/newsgroups_text/_search [status:200 request:0.006s]\n"
     ]
    },
    {
     "data": {
      "text/plain": [
       "[{'text': \"\\n: The Bible says there is a God; if that is true then our atheism is\\n: mistaken.  What of it?  Seems pretty obvious to me.  Socrates said\\n: there were many gods; if that is true then your monotheism (and our\\n: atheism) is mistaken, even if Socrates never existed.\\n\\n\\nJim,\\n\\nI think you must have come in late. The discussion (on my part at\\nleast) began with Benedikt's questioning of the historical acuuracy of\\nthe NT. I was making the point that, if the same standards are used to\\nvalidate secular history that are used here to discredit NT history,\\nthen virtually nothing is known of the first century.\\n\\nYou seem to be saying that the Bible -cannot- be true because it\\nspeaks of the existence of God as it it were a fact. Your objection\\nhas nothing to do with history, it is merely another statement of\\natheism.\", 'id': '5989f5a9-2173-4038-8517-d33a92e975dd', 'score': 0.03570000000001983, 'probability': 0.5000892499990521, 'question': None, 'meta': {'newsgroups_text': \"\\n: The Bible says there is a God; if that is true then our atheism is\\n: mistaken.  What of it?  Seems pretty obvious to me.  Socrates said\\n: there were many gods; if that is true then your monotheism (and our\\n: atheism) is mistaken, even if Socrates never existed.\\n\\n\\nJim,\\n\\nI think you must have come in late. The discussion (on my part at\\nleast) began with Benedikt's questioning of the historical acuuracy of\\nthe NT. I was making the point that, if the same standards are used to\\nvalidate secular history that are used here to discredit NT history,\\nthen virtually nothing is known of the first century.\\n\\nYou seem to be saying that the Bible -cannot- be true because it\\nspeaks of the existence of God as it it were a fact. Your objection\\nhas nothing to do with history, it is merely another statement of\\natheism.\"}, 'embedding': None},\n",
       " {'text': \"\\n\\nWell, this is alt.atheism.  I hope you arent here to try to convert anyone.\\n\\n\\nMany would disagree.\\n\\n[...]\\n\\nWell, you shouldn't give any particular book too much weight.  Actually,\\nI don't think that any of these statements is correct.  It is more likely\\nthat most of Jesus' fame was attributed to him after his death by those\\nwho had some strong motives...\\n\\n[...]\\n\\nWhat's a prophecy, and what's so significant about them?\\n\\n\\nI think we understand.\\n\\n\\nWell, sell your computer and donate you life to your religion now...\\nDon't waste any time.\", 'id': '1b7b44f3-8c99-4ce9-8b41-a238d951efe4', 'score': 0.03200000000003911, 'probability': 0.5000799999993174, 'question': None, 'meta': {'newsgroups_text': \"\\n\\nWell, this is alt.atheism.  I hope you arent here to try to convert anyone.\\n\\n\\nMany would disagree.\\n\\n[...]\\n\\nWell, you shouldn't give any particular book too much weight.  Actually,\\nI don't think that any of these statements is correct.  It is more likely\\nthat most of Jesus' fame was attributed to him after his death by those\\nwho had some strong motives...\\n\\n[...]\\n\\nWhat's a prophecy, and what's so significant about them?\\n\\n\\nI think we understand.\\n\\n\\nWell, sell your computer and donate you life to your religion now...\\nDon't waste any time.\"}, 'embedding': None},\n",
       " {'text': \"\\n\\n\\n\\n\\n\\n\\nYeah, do you expect people to read the FAQ, etc. and actually accept hard\\natheism?  No, you need a little leap of faith, Jimmy.  Your logic runs out\\nof steam!\\n\\n\\n\\n\\n\\n\\n\\nJim,\\n\\nSorry I can't pity you, Jim.  And I'm sorry that you have these feelings of\\ndenial about the faith you need to get by.  Oh well, just pretend that it will\\nall end happily ever after anyway.  Maybe if you start a new newsgroup,\\nalt.atheist.hard, you won't be bummin' so much?\\n\\n\\n\\n\\n\\n\\nBye-Bye, Big Jim.  Don't forget your Flintstone's Chewables!  :) \\n--\\nBake Timmons, III\", 'id': '986ecf0f-d3a7-477a-b6b1-0044908dde76', 'score': 0.027100000000018554, 'probability': 0.5000677499995854, 'question': None, 'meta': {'newsgroups_text': \"\\n\\n\\n\\n\\n\\n\\nYeah, do you expect people to read the FAQ, etc. and actually accept hard\\natheism?  No, you need a little leap of faith, Jimmy.  Your logic runs out\\nof steam!\\n\\n\\n\\n\\n\\n\\n\\nJim,\\n\\nSorry I can't pity you, Jim.  And I'm sorry that you have these feelings of\\ndenial about the faith you need to get by.  Oh well, just pretend that it will\\nall end happily ever after anyway.  Maybe if you start a new newsgroup,\\nalt.atheist.hard, you won't be bummin' so much?\\n\\n\\n\\n\\n\\n\\nBye-Bye, Big Jim.  Don't forget your Flintstone's Chewables!  :) \\n--\\nBake Timmons, III\"}, 'embedding': None},\n",
       " {'text': \"As I was created in the image of Gaea, therefore I must\\nbe the pinnacle of creation, She which Creates, She which\\nBirths, She which Continues.\\n\\nOr, to cut all the religious crap, I'm a woman, thanks.\\nAnd it's sexism that started me on the road to atheism.\\n\\n-- \\nMaddi Hausmann                       madhaus@netcom.com\\nCentigram Communications Corp        San Jose California  408/428-3553\", 'id': '571d2e7c-c195-45ca-92e0-750049527919', 'score': 0.02404999999998836, 'probability': 0.5000601249997101, 'question': None, 'meta': {'newsgroups_text': \"As I was created in the image of Gaea, therefore I must\\nbe the pinnacle of creation, She which Creates, She which\\nBirths, She which Continues.\\n\\nOr, to cut all the religious crap, I'm a woman, thanks.\\nAnd it's sexism that started me on the road to atheism.\\n\\n-- \\nMaddi Hausmann                       madhaus@netcom.com\\nCentigram Communications Corp        San Jose California  408/428-3553\"}, 'embedding': None},\n",
       " {'text': '\\n\\n\\nAre you your own master?  Do you have any habits that you cannot break?\\nFor one, you seem unable to master your lack of desire to understand\\neven the slightest concept of the Bible.  Seems that ignorance has you\\nmastered.  How about sexual sins?  Gotta any of those secret desires\\nin your head that you harbor but can get control of?   Do you dehumanize\\nwomen when they walk past you?  Do you degrade them to a sex object in\\nyour head?  Are you the master of that kind of thinking?  Do you insult\\npeople unknowingly, then regret it later.  Yet do it again the next\\ntime opportunity presents itself?  Are you truly the master of yourself?\\n\\nI have admitted that I am not the master of my thought life at all times.\\nThat I sometimes say things I do want to say, and then repeat my mistake\\nunwantingly.  I have admitted to myself that I cannot control every aspect\\nof my being.  There are times I know I shouldn\\'t say something, but\\nthen say it anyway.  There are times I simply forget a lesson.\\nI, in fact, am not my own master.  I need help.  Jesus promised me\\nthis help.  And I took him up on his offer.  I have willfully let\\nJesus be my master because Jesus knows what is better for me than\\nI myself do.  And why not?  Does not the creator know his creation\\nbetter than the creation?  Does Toyota know what\\'s better for the\\nCorolla than the Corolla?\\n\\n\\nThen I guess ignorance is bliss for you.  Because Brian, you enjoy\\nnot having a clue about the Bible.   \\n\\n\\n\\nCan you witness motherly love with your senses?  How does caring and\\nconcern for you register with your senses?  If nothing registers\\nto you other than what you can see, taste, smell, hear and touch,\\nthen you better become a Vulcan and fast.  You better get rid\\nof your emotions.\\n\\nAnd I do have a good reason to believe what I do.\\n\\n\\n\\nThe topic was about my God and your lack of knowledge about what my\\nGod says.   My God says that you will not CEASE EXISTING.  You have\\nlife forever.  You can choose to either live it in hell in eternal\\ntorment where there is no communication whatsoever, or can choose to \\nlive it in paradise with God.  That is what my God says.  And that\\nwas the issue.  Your made-up theism is what it is--made up.  It\\'s\\nwishful thinking.\\n \\n\\nIs this the religion of Kendigianism?  Most people are not Christian.  Most\\npeople, including Christians,  are not fond of feeling that they\\nare imperfect.  Is \"the world an undesireable place\" a doctrine\\nof Kendigianism?  It has nothing to do with my God.  Does\\nKendigism have magical mystical prayers as a part of its worship?\\nMine doesn\\'t.  Does Kendigianism believe that the world will be holy again?  \\nMine doesn\\'t.  Does Kendigianism also dictate that one must obey what the\\npriest tells them like good little sheep?  Mine doesn\\'t.  Is this\\na bunch of lies you tell yourself so that you can justify being \\nignorant of the Bible?\\n\\nBrian, following Christ has nothing to do with the doctrines of Kendigianism.\\nYou would find any of your doctrines in the Bible.   I don\\'t follow Kendigianism.\\nI follow Christ.   Also, to try to again show you your ignorance\\nof Christ and the Bible in regards to \"priests\",  have you not read about\\nthe sole Melchizedek priest in Hebrews 7 and 8?  Have you not read what the\\npurpose is of the Old Testament Levitical priesthood and why there should\\nNOT be priests today?  Yes, guess what?  The Catholics messed up.  I do\\nnot follow Catholicism or any \"ism.\"  I follow Christ.\\n\\n\\nWhy would you want to live a good life?\\nTo you, you die and that\\'s it.  Don\\'t contradict yourself.  You have\\nno reason to live a good life.  It doesn\\'t do you any good in the\\nend.  Your life doesn\\'t do anybody else any good  either because\\neveryone dies anyway.  So you have no reason to lead a good life. Leading\\na good life is meaningless.   Why do you do such a meaningless thing?\\n\\n\\nHas the resurrection sunk in?  Jesus is alive.  Jesus is NOT dead.\\nJesus was sacrified to fufill the Old Testament sacrificial system\\nin its every detail.  Jesus\\'s death was like a seed.  He needed\\nto fall to the ground so that many new lives would take root.  Did\\nyou miss the entire John passage as well?  \\n\\n\\n\\nForget that I am a person.  Forget that I know how to type.  Forget\\nthat I know how to put a sentence together.  Forget that I know\\nhow to send e-mail.   Forget my existence.  Proove to me that I\\nexist.  .\\n', 'id': '99e14879-3b96-4713-adf8-5d249a1e4d45', 'score': 0.0221000000000231, 'probability': 0.5000552499997751, 'question': None, 'meta': {'newsgroups_text': '\\n\\n\\nAre you your own master?  Do you have any habits that you cannot break?\\nFor one, you seem unable to master your lack of desire to understand\\neven the slightest concept of the Bible.  Seems that ignorance has you\\nmastered.  How about sexual sins?  Gotta any of those secret desires\\nin your head that you harbor but can get control of?   Do you dehumanize\\nwomen when they walk past you?  Do you degrade them to a sex object in\\nyour head?  Are you the master of that kind of thinking?  Do you insult\\npeople unknowingly, then regret it later.  Yet do it again the next\\ntime opportunity presents itself?  Are you truly the master of yourself?\\n\\nI have admitted that I am not the master of my thought life at all times.\\nThat I sometimes say things I do want to say, and then repeat my mistake\\nunwantingly.  I have admitted to myself that I cannot control every aspect\\nof my being.  There are times I know I shouldn\\'t say something, but\\nthen say it anyway.  There are times I simply forget a lesson.\\nI, in fact, am not my own master.  I need help.  Jesus promised me\\nthis help.  And I took him up on his offer.  I have willfully let\\nJesus be my master because Jesus knows what is better for me than\\nI myself do.  And why not?  Does not the creator know his creation\\nbetter than the creation?  Does Toyota know what\\'s better for the\\nCorolla than the Corolla?\\n\\n\\nThen I guess ignorance is bliss for you.  Because Brian, you enjoy\\nnot having a clue about the Bible.   \\n\\n\\n\\nCan you witness motherly love with your senses?  How does caring and\\nconcern for you register with your senses?  If nothing registers\\nto you other than what you can see, taste, smell, hear and touch,\\nthen you better become a Vulcan and fast.  You better get rid\\nof your emotions.\\n\\nAnd I do have a good reason to believe what I do.\\n\\n\\n\\nThe topic was about my God and your lack of knowledge about what my\\nGod says.   My God says that you will not CEASE EXISTING.  You have\\nlife forever.  You can choose to either live it in hell in eternal\\ntorment where there is no communication whatsoever, or can choose to \\nlive it in paradise with God.  That is what my God says.  And that\\nwas the issue.  Your made-up theism is what it is--made up.  It\\'s\\nwishful thinking.\\n \\n\\nIs this the religion of Kendigianism?  Most people are not Christian.  Most\\npeople, including Christians,  are not fond of feeling that they\\nare imperfect.  Is \"the world an undesireable place\" a doctrine\\nof Kendigianism?  It has nothing to do with my God.  Does\\nKendigism have magical mystical prayers as a part of its worship?\\nMine doesn\\'t.  Does Kendigianism believe that the world will be holy again?  \\nMine doesn\\'t.  Does Kendigianism also dictate that one must obey what the\\npriest tells them like good little sheep?  Mine doesn\\'t.  Is this\\na bunch of lies you tell yourself so that you can justify being \\nignorant of the Bible?\\n\\nBrian, following Christ has nothing to do with the doctrines of Kendigianism.\\nYou would find any of your doctrines in the Bible.   I don\\'t follow Kendigianism.\\nI follow Christ.   Also, to try to again show you your ignorance\\nof Christ and the Bible in regards to \"priests\",  have you not read about\\nthe sole Melchizedek priest in Hebrews 7 and 8?  Have you not read what the\\npurpose is of the Old Testament Levitical priesthood and why there should\\nNOT be priests today?  Yes, guess what?  The Catholics messed up.  I do\\nnot follow Catholicism or any \"ism.\"  I follow Christ.\\n\\n\\nWhy would you want to live a good life?\\nTo you, you die and that\\'s it.  Don\\'t contradict yourself.  You have\\nno reason to live a good life.  It doesn\\'t do you any good in the\\nend.  Your life doesn\\'t do anybody else any good  either because\\neveryone dies anyway.  So you have no reason to lead a good life. Leading\\na good life is meaningless.   Why do you do such a meaningless thing?\\n\\n\\nHas the resurrection sunk in?  Jesus is alive.  Jesus is NOT dead.\\nJesus was sacrified to fufill the Old Testament sacrificial system\\nin its every detail.  Jesus\\'s death was like a seed.  He needed\\nto fall to the ground so that many new lives would take root.  Did\\nyou miss the entire John passage as well?  \\n\\n\\n\\nForget that I am a person.  Forget that I know how to type.  Forget\\nthat I know how to put a sentence together.  Forget that I know\\nhow to send e-mail.   Forget my existence.  Proove to me that I\\nexist.  .\\n'}, 'embedding': None},\n",
       " {'text': '\\n\\nIn mentioning some nonsense about psychology :) and atheism, Bob Muir asks\\nthe following question.   \\n\\n\\nI answer in the affirmative.  Now this answer might sound a little\\nintellectually dishonest to Bob, but I think I have been accused before\\nof that heinous crime and am man enough to take it.  !-)  What thinking\\nperson has not at one time or other been accused of it?   Is it\\npolitically correct for Christians to be the only besieged group\\npermitted the luxury of arrogance?   \\n\\nNow I have a question for Bob.  Why in the world would any self-respecting\\natheist want to subscribe to a Christian news group?  I have a \\ndifficult enough time keeping up with it, and I think I know something\\nabout the subject.     \\n\\nBob reminds me of my roommate.  In order to disbelieve atheism, he says \\nhe will need to be proven wrong about it.  Well, I don\\'t even waste \\nmy time trying.  I tell him that he\\'ll just have to take my word for it. \\nIn response, he tells me he will say an \"atheist\\'s prayer\" for me. \\n\\nGood luck, Bob.  And, best regards.\\n  ', 'id': 'c83e3e74-0a0c-495b-8d48-f6ee04a42d63', 'score': 0.021359999999958745, 'probability': 0.5000533999997968, 'question': None, 'meta': {'newsgroups_text': '\\n\\nIn mentioning some nonsense about psychology :) and atheism, Bob Muir asks\\nthe following question.   \\n\\n\\nI answer in the affirmative.  Now this answer might sound a little\\nintellectually dishonest to Bob, but I think I have been accused before\\nof that heinous crime and am man enough to take it.  !-)  What thinking\\nperson has not at one time or other been accused of it?   Is it\\npolitically correct for Christians to be the only besieged group\\npermitted the luxury of arrogance?   \\n\\nNow I have a question for Bob.  Why in the world would any self-respecting\\natheist want to subscribe to a Christian news group?  I have a \\ndifficult enough time keeping up with it, and I think I know something\\nabout the subject.     \\n\\nBob reminds me of my roommate.  In order to disbelieve atheism, he says \\nhe will need to be proven wrong about it.  Well, I don\\'t even waste \\nmy time trying.  I tell him that he\\'ll just have to take my word for it. \\nIn response, he tells me he will say an \"atheist\\'s prayer\" for me. \\n\\nGood luck, Bob.  And, best regards.\\n  '}, 'embedding': None},\n",
       " {'text': '\\nI don\\'t meant to defend Eric Molas- I find it somewhat annoying when\\nsomeone pops up on alt.atheism to tell us all about his (usually\\natheistic) beliefs, so I can certainly see how Christians might be\\nannoyed- but I\\'d like to point out a few things.\\n\\n\\n\"no meaning from God\" is not the same as \"no meaning\". From my (atheistic)\\npoint of view, if you want meaning in your life, you get to go and\\nget some or make some.\\n\\nNo free gifts of meaning. (I never quite understood how any\\nGod can just \"give\" your life meaning, actually. If he\\nsays you exists to do or be X, that gives you a purpose\\nif you care to accept it, but is that the same thing? But\\nI digress...) \\n\\n\\nThis would truely be a miserably existance, which I doubt Eric\\nendures. Life can be enjoyable, so you can live it because you like\\nit, or purposefull, so you can live it to get something done. One should\\nendeavour to make it so, if it is not. Otherwise it would be as you say.\\nTerrible.\\n\\n\\nProbably true. Remeber he almost certainly sees that particular joy as\\nan illusion, and does not want it. So maybe it isn\\'t so bad?\\n\\n\\nAs an atheist, I am free to be a human person. I think, love, choose,\\nand create.\\n\\n\\nAh, now here we begin to diverge. I will not live forever\\nwith anyone.\\n\\n(I don\\'t think you will either, but you are welcome to your\\nopinion on the matter.)\\n\\n\\nI tend to agree with you.\\n\\nIt\\'s my opinion that (unlike drugs) religions are normal\\nparts of human societies.\\n\\nI think they have outlived their usefullness, but they\\nare evidently quite ordinary, normal things that haven\\'t\\nproved lethal to humanity yet.\\n\\n\\nI have heard this claim quite a few times. Does anybody here know\\nwho first came up with the \"God-shaped hole\" business?\\n\\n\\nYou might want to provide some evidence next time you make a claim\\nlike this.\\n\\n\\nI don\\'t know Eric, but I do not think it is wise to assume he has a less\\njoy-filled and abundant life because he holds certain beliefs.\\n\\n---\\n\\t\\t\\t- Dan Johnson\\nAnd God said \"Jeeze, this is dull\"... and it *WAS* dull. Genesis 0:0', 'id': 'd4b8ef67-7c38-495a-bc1e-cc10001eda7a', 'score': 0.01779999999996562, 'probability': 0.5000444999998824, 'question': None, 'meta': {'newsgroups_text': '\\nI don\\'t meant to defend Eric Molas- I find it somewhat annoying when\\nsomeone pops up on alt.atheism to tell us all about his (usually\\natheistic) beliefs, so I can certainly see how Christians might be\\nannoyed- but I\\'d like to point out a few things.\\n\\n\\n\"no meaning from God\" is not the same as \"no meaning\". From my (atheistic)\\npoint of view, if you want meaning in your life, you get to go and\\nget some or make some.\\n\\nNo free gifts of meaning. (I never quite understood how any\\nGod can just \"give\" your life meaning, actually. If he\\nsays you exists to do or be X, that gives you a purpose\\nif you care to accept it, but is that the same thing? But\\nI digress...) \\n\\n\\nThis would truely be a miserably existance, which I doubt Eric\\nendures. Life can be enjoyable, so you can live it because you like\\nit, or purposefull, so you can live it to get something done. One should\\nendeavour to make it so, if it is not. Otherwise it would be as you say.\\nTerrible.\\n\\n\\nProbably true. Remeber he almost certainly sees that particular joy as\\nan illusion, and does not want it. So maybe it isn\\'t so bad?\\n\\n\\nAs an atheist, I am free to be a human person. I think, love, choose,\\nand create.\\n\\n\\nAh, now here we begin to diverge. I will not live forever\\nwith anyone.\\n\\n(I don\\'t think you will either, but you are welcome to your\\nopinion on the matter.)\\n\\n\\nI tend to agree with you.\\n\\nIt\\'s my opinion that (unlike drugs) religions are normal\\nparts of human societies.\\n\\nI think they have outlived their usefullness, but they\\nare evidently quite ordinary, normal things that haven\\'t\\nproved lethal to humanity yet.\\n\\n\\nI have heard this claim quite a few times. Does anybody here know\\nwho first came up with the \"God-shaped hole\" business?\\n\\n\\nYou might want to provide some evidence next time you make a claim\\nlike this.\\n\\n\\nI don\\'t know Eric, but I do not think it is wise to assume he has a less\\njoy-filled and abundant life because he holds certain beliefs.\\n\\n---\\n\\t\\t\\t- Dan Johnson\\nAnd God said \"Jeeze, this is dull\"... and it *WAS* dull. Genesis 0:0'}, 'embedding': None},\n",
       " {'text': '\\n\\n\\n  >[I\\'m sort of mystified about how a Christian might respond to this.]\\n\\n  I\\'ll start with a parable.\\n \\n  A Christian woman hires a carpenter to build her a birdhouse.  When he comes\\nover, they begin talking about religion.  \"So you believe that you understand\\nGod?\" he asks.  \"Yes, I do,\" she replies.  \"Then have him build you the \\nbirdhouse.\"', 'id': 'b5157962-020f-4153-9602-31258cbce65a', 'score': 0.017600000000015825, 'probability': 0.5000439999998865, 'question': None, 'meta': {'newsgroups_text': '\\n\\n\\n  >[I\\'m sort of mystified about how a Christian might respond to this.]\\n\\n  I\\'ll start with a parable.\\n \\n  A Christian woman hires a carpenter to build her a birdhouse.  When he comes\\nover, they begin talking about religion.  \"So you believe that you understand\\nGod?\" he asks.  \"Yes, I do,\" she replies.  \"Then have him build you the \\nbirdhouse.\"'}, 'embedding': None},\n",
       " {'text': \"Hi,\\n\\nMy name is rahul and I am doing MS at USU, Logan\\nMy query is:\\n\\tI have a HP workstation: HP Series 400 with X running on it.\\nI have a true color - 24bit color monitor connected to this machine.\\nNormally I have the capability to display 256 colors from a max of\\n16.7 million. Since the monitor is True Color I can see 16.7\\nmillion at a time. \\nQue: do we have a facility in X(c-function call) that will enable me\\nto specify any RGB combination and see it on screen? I am using\\nXStoreColor to set the pallette of a max of 256 colors.\\nQue: If not. Is there any way I can display a true color image\\non a true color monitor using XLib function calls?\\n\\nWe are generating ray traced images and 256 colors are indeed a\\npainful limit. besides I need the facility to display the true color images \\ni will be generating on a true color system WITHOUT color \\nquantification.\\nPlease, if anyone can help i'd be obliged\", 'id': '5339db27-8b3c-4ef3-8a57-9e07bd5a7a2d', 'score': 0.01733000000001539, 'probability': 0.5000433249998916, 'question': None, 'meta': {'newsgroups_text': \"Hi,\\n\\nMy name is rahul and I am doing MS at USU, Logan\\nMy query is:\\n\\tI have a HP workstation: HP Series 400 with X running on it.\\nI have a true color - 24bit color monitor connected to this machine.\\nNormally I have the capability to display 256 colors from a max of\\n16.7 million. Since the monitor is True Color I can see 16.7\\nmillion at a time. \\nQue: do we have a facility in X(c-function call) that will enable me\\nto specify any RGB combination and see it on screen? I am using\\nXStoreColor to set the pallette of a max of 256 colors.\\nQue: If not. Is there any way I can display a true color image\\non a true color monitor using XLib function calls?\\n\\nWe are generating ray traced images and 256 colors are indeed a\\npainful limit. besides I need the facility to display the true color images \\ni will be generating on a true color system WITHOUT color \\nquantification.\\nPlease, if anyone can help i'd be obliged\"}, 'embedding': None},\n",
       " {'text': \"Hi,\\n\\nI don't know much about Bible. Could you tell me the relations of\\nChristians with non-Christians in Bible? How should be The relations of\\nchristian nations with each other and the relations of Christian nations\\nwith other nations who are not Christians?\\n\\nThe other question is about the concept of religion in Bible. Does the\\nreligion of God include and necessitate any law to be extracted from\\nBible or is the religion only a belief and nothing to do with the\\ngovernment sides? If for example, any government or a nation is one of\\nthe wrongdoings according to Bible, how should they be treated? \\n\\nIs there any statement in Bible saying that Bible is a guide for every\\naspects of life?  \\n\\nThank you.\", 'id': 'e872e390-cd58-472c-af63-0461bc3ff29a', 'score': 0.016660000000001673, 'probability': 0.5000416499999036, 'question': None, 'meta': {'newsgroups_text': \"Hi,\\n\\nI don't know much about Bible. Could you tell me the relations of\\nChristians with non-Christians in Bible? How should be The relations of\\nchristian nations with each other and the relations of Christian nations\\nwith other nations who are not Christians?\\n\\nThe other question is about the concept of religion in Bible. Does the\\nreligion of God include and necessitate any law to be extracted from\\nBible or is the religion only a belief and nothing to do with the\\ngovernment sides? If for example, any government or a nation is one of\\nthe wrongdoings according to Bible, how should they be treated? \\n\\nIs there any statement in Bible saying that Bible is a guide for every\\naspects of life?  \\n\\nThank you.\"}, 'embedding': None}]"
      ]
     },
     "execution_count": 10,
     "metadata": {},
     "output_type": "execute_result"
    }
   ],
   "source": [
    "sklearn_retriever.retrieve('atheism')"
   ]
  }
 ],
 "metadata": {
  "kernelspec": {
   "display_name": "Python 3",
   "language": "python",
   "name": "python3"
  },
  "language_info": {
   "codemirror_mode": {
    "name": "ipython",
    "version": 3
   },
   "file_extension": ".py",
   "mimetype": "text/x-python",
   "name": "python",
   "nbconvert_exporter": "python",
   "pygments_lexer": "ipython3",
   "version": "3.8.5"
  }
 },
 "nbformat": 4,
 "nbformat_minor": 4
}
