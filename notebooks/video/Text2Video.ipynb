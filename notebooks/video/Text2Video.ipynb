{
 "cells": [
  {
   "cell_type": "markdown",
   "id": "64d25296-5482-429a-96b8-d843220faaa3",
   "metadata": {},
   "source": [
    "# Text2Video Huggingface models\n",
    "\n",
    "I've tested `damo-vilab/text-to-video-ms-1.7b` - it runs on 6GB GPU RAM in fp16.\n",
    "\n",
    "### Dependencies\n",
    "\n",
    "\n",
    "The following packages were used in `pixi.toml` (ipykernel from this venv needs to be created)\n",
    "\n",
    "```toml\n",
    "[project]\n",
    "name = \"text-to-video\"\n",
    "version = \"0.1.0\"\n",
    "description = \"Add a short description here\"\n",
    "channels = [\"conda-forge\", \"nvidia\", \"pytorch\"]\n",
    "platforms = [\"linux-64\"]\n",
    "\n",
    "[tasks]\n",
    "\n",
    "[dependencies]\n",
    "python = \"3.10\"\n",
    "transformers = \"4.33.3.*\"\n",
    "pytorch-gpu = \"1.11.0.*\"\n",
    "ipykernel = \"6.25.2.*\"\n",
    "diffusers = \"0.18.2.*\"\n",
    "accelerate = \"0.23.0.*\"\n",
    "opencv = \"4.6.0.*\"\n",
    "pip = \"23.2.1.*\"\n",
    "gradio = \"3.23.0.*\"\n",
    "imageio = \"2.31.1.*\"\n",
    "```\n"
   ]
  },
  {
   "cell_type": "code",
   "execution_count": 1,
   "id": "5e0e2f04-a850-4ea5-bd98-705d277ae21c",
   "metadata": {},
   "outputs": [],
   "source": [
    "import torch\n",
    "from diffusers import DiffusionPipeline, DPMSolverMultistepScheduler\n",
    "from diffusers.utils import export_to_video\n",
    "from IPython.display import Video\n",
    "import imageio\n",
    "from pathlib import Path\n",
    "import skvideo.io"
   ]
  },
  {
   "cell_type": "code",
   "execution_count": 2,
   "id": "3df10296-8741-4004-bc22-ee694dd1d15c",
   "metadata": {},
   "outputs": [],
   "source": [
    "VIDEOS_PATH = str(Path(\"~\") / \"Videos/text2video/\")"
   ]
  },
  {
   "cell_type": "code",
   "execution_count": 3,
   "id": "f516ad31-ad89-43be-a02d-a099c8205b3a",
   "metadata": {},
   "outputs": [],
   "source": [
    "from streamlit_jupyter import StreamlitPatcher, tqdm"
   ]
  },
  {
   "cell_type": "code",
   "execution_count": 4,
   "id": "9abfd005-8ca7-43ea-88d1-2feb39bd0770",
   "metadata": {},
   "outputs": [],
   "source": [
    "pipe = DiffusionPipeline.from_pretrained(\"damo-vilab/text-to-video-ms-1.7b\", torch_dtype=torch.float16, variant=\"fp16\")\n",
    "pipe.scheduler = DPMSolverMultistepScheduler.from_config(pipe.scheduler.config)\n",
    "pipe.enable_model_cpu_offload()"
   ]
  },
  {
   "cell_type": "code",
   "execution_count": 5,
   "id": "d176a9ae-110a-4127-b2a2-38d20b6030f8",
   "metadata": {},
   "outputs": [
    {
     "data": {
      "application/vnd.jupyter.widget-view+json": {
       "model_id": "b2b93fb138fe4fbe9e65a1e697bd5a5d",
       "version_major": 2,
       "version_minor": 0
      },
      "text/plain": [
       "  0%|          | 0/25 [00:00<?, ?it/s]"
      ]
     },
     "metadata": {},
     "output_type": "display_data"
    }
   ],
   "source": [
    "prompt = \"Wizard hat with inscribed math equations rotating slowly\"\n",
    "video_frames = pipe(prompt, num_inference_steps=25, num_frames=50).frames"
   ]
  },
  {
   "cell_type": "code",
   "execution_count": 6,
   "id": "327feac7-d7fd-4944-bce7-e70174c34722",
   "metadata": {},
   "outputs": [],
   "source": [
    "import numpy as np\n",
    "from IPython.display import Video, Image"
   ]
  },
  {
   "cell_type": "code",
   "execution_count": 7,
   "id": "cbd23775-f0d0-49f8-9e29-4bfe0a97aedb",
   "metadata": {},
   "outputs": [],
   "source": [
    "path = \"/home/kuba/Videos/text2video/output\""
   ]
  },
  {
   "cell_type": "code",
   "execution_count": 8,
   "id": "b4c17c49-5be3-492e-97ae-1ec85c469b89",
   "metadata": {},
   "outputs": [],
   "source": [
    "#StreamlitPatcher().jupyter()  # register streamlit with jupyter-compatible wrappers"
   ]
  },
  {
   "cell_type": "code",
   "execution_count": 9,
   "id": "b91f6bb0-c857-4ba1-a24b-b698cb3ea2fd",
   "metadata": {},
   "outputs": [],
   "source": [
    "for (i, frame) in enumerate(video_frames):\n",
    "    frame_path = Path(path) / f\"{i}.png\"\n",
    "    imageio.imwrite(frame_path, frame)"
   ]
  },
  {
   "cell_type": "code",
   "execution_count": 10,
   "id": "182674a5-6387-4706-bf58-176296715aed",
   "metadata": {},
   "outputs": [],
   "source": [
    "output_video_path = str(Path(VIDEOS_PATH) / \"out.mp4\")"
   ]
  },
  {
   "cell_type": "code",
   "execution_count": 11,
   "id": "06ebdb73-cf79-497d-aa04-098487a3f74e",
   "metadata": {},
   "outputs": [
    {
     "name": "stdout",
     "output_type": "stream",
     "text": [
      "ffmpeg version 4.4.2-0ubuntu0.22.04.1 Copyright (c) 2000-2021 the FFmpeg developers\n",
      "  built with gcc 11 (Ubuntu 11.2.0-19ubuntu1)\n",
      "  configuration: --prefix=/usr --extra-version=0ubuntu0.22.04.1 --toolchain=hardened --libdir=/usr/lib/x86_64-linux-gnu --incdir=/usr/include/x86_64-linux-gnu --arch=amd64 --enable-gpl --disable-stripping --enable-gnutls --enable-ladspa --enable-libaom --enable-libass --enable-libbluray --enable-libbs2b --enable-libcaca --enable-libcdio --enable-libcodec2 --enable-libdav1d --enable-libflite --enable-libfontconfig --enable-libfreetype --enable-libfribidi --enable-libgme --enable-libgsm --enable-libjack --enable-libmp3lame --enable-libmysofa --enable-libopenjpeg --enable-libopenmpt --enable-libopus --enable-libpulse --enable-librabbitmq --enable-librubberband --enable-libshine --enable-libsnappy --enable-libsoxr --enable-libspeex --enable-libsrt --enable-libssh --enable-libtheora --enable-libtwolame --enable-libvidstab --enable-libvorbis --enable-libvpx --enable-libwebp --enable-libx265 --enable-libxml2 --enable-libxvid --enable-libzimg --enable-libzmq --enable-libzvbi --enable-lv2 --enable-omx --enable-openal --enable-opencl --enable-opengl --enable-sdl2 --enable-pocketsphinx --enable-librsvg --enable-libmfx --enable-libdc1394 --enable-libdrm --enable-libiec61883 --enable-chromaprint --enable-frei0r --enable-libx264 --enable-shared\n",
      "  libavutil      56. 70.100 / 56. 70.100\n",
      "  libavcodec     58.134.100 / 58.134.100\n",
      "  libavformat    58. 76.100 / 58. 76.100\n",
      "  libavdevice    58. 13.100 / 58. 13.100\n",
      "  libavfilter     7.110.100 /  7.110.100\n",
      "  libswscale      5.  9.100 /  5.  9.100\n",
      "  libswresample   3.  9.100 /  3.  9.100\n",
      "  libpostproc    55.  9.100 / 55.  9.100\n",
      "Input #0, image2, from '/home/kuba/Videos/text2video/output/*.png':\n",
      "  Duration: 00:00:10.00, start: 0.000000, bitrate: N/A\n",
      "  Stream #0:0: Video: png, rgb24(pc), 256x256, 5 fps, 5 tbr, 5 tbn, 5 tbc\n",
      "Stream mapping:\n",
      "  Stream #0:0 -> #0:0 (png (native) -> h264 (libx264))\n",
      "Press [q] to stop, [?] for help\n",
      "\u001b[1;36m[libx264 @ 0x559d6e370700] \u001b[0musing cpu capabilities: MMX2 SSE2Fast SSSE3 SSE4.2 AVX FMA3 BMI2 AVX2\n",
      "\u001b[1;36m[libx264 @ 0x559d6e370700] \u001b[0mprofile High, level 1.2, 4:2:0, 8-bit\n",
      "\u001b[1;36m[libx264 @ 0x559d6e370700] \u001b[0m264 - core 163 r3060 5db6aa6 - H.264/MPEG-4 AVC codec - Copyleft 2003-2021 - http://www.videolan.org/x264.html - options: cabac=1 ref=3 deblock=1:0:0 analyse=0x3:0x113 me=hex subme=7 psy=1 psy_rd=1.00:0.00 mixed_ref=1 me_range=16 chroma_me=1 trellis=1 8x8dct=1 cqm=0 deadzone=21,11 fast_pskip=1 chroma_qp_offset=-2 threads=8 lookahead_threads=1 sliced_threads=0 nr=0 decimate=1 interlaced=0 bluray_compat=0 constrained_intra=0 bframes=3 b_pyramid=2 b_adapt=1 b_bias=0 direct=1 weightb=1 open_gop=0 weightp=2 keyint=250 keyint_min=5 scenecut=40 intra_refresh=0 rc_lookahead=40 rc=crf mbtree=1 crf=23.0 qcomp=0.60 qpmin=0 qpmax=69 qpstep=4 ip_ratio=1.40 aq=1:1.00\n",
      "Output #0, mp4, to '/home/kuba/Videos/text2video/out.mp4':\n",
      "  Metadata:\n",
      "    encoder         : Lavf58.76.100\n",
      "  Stream #0:0: Video: h264 (avc1 / 0x31637661), yuv420p(tv, progressive), 256x256, q=2-31, 5 fps, 10240 tbn\n",
      "    Metadata:\n",
      "      encoder         : Lavc58.134.100 libx264\n",
      "    Side data:\n",
      "      cpb: bitrate max/min/avg: 0/0/0 buffer size: 0 vbv_delay: N/A\n",
      "frame=   50 fps=0.0 q=-1.0 Lsize=     352kB time=00:00:09.40 bitrate= 307.1kbits/s speed=  74x    \n",
      "video:351kB audio:0kB subtitle:0kB other streams:0kB global headers:0kB muxing overhead: 0.405950%\n",
      "\u001b[1;36m[libx264 @ 0x559d6e370700] \u001b[0mframe I:1     Avg QP:27.02  size:  9592\n",
      "\u001b[1;36m[libx264 @ 0x559d6e370700] \u001b[0mframe P:13    Avg QP:27.27  size:  7747\n",
      "\u001b[1;36m[libx264 @ 0x559d6e370700] \u001b[0mframe B:36    Avg QP:28.38  size:  6900\n",
      "\u001b[1;36m[libx264 @ 0x559d6e370700] \u001b[0mconsecutive B-frames:  4.0%  0.0%  0.0% 96.0%\n",
      "\u001b[1;36m[libx264 @ 0x559d6e370700] \u001b[0mmb I  I16..4:  0.0% 52.7% 47.3%\n",
      "\u001b[1;36m[libx264 @ 0x559d6e370700] \u001b[0mmb P  I16..4:  0.0%  4.3%  7.1%  P16..4:  4.4% 24.4% 59.8%  0.0%  0.0%    skip: 0.0%\n",
      "\u001b[1;36m[libx264 @ 0x559d6e370700] \u001b[0mmb B  I16..4:  0.0%  0.8%  4.2%  B16..8:  2.2% 25.7% 66.4%  direct: 0.6%  skip: 0.0%  L0:50.3% L1:37.1% BI:12.6%\n",
      "\u001b[1;36m[libx264 @ 0x559d6e370700] \u001b[0m8x8 transform intra:32.3% inter:79.1%\n",
      "\u001b[1;36m[libx264 @ 0x559d6e370700] \u001b[0mcoded y,uvDC,uvAC intra: 98.6% 0.7% 0.1% inter: 95.8% 0.2% 0.0%\n",
      "\u001b[1;36m[libx264 @ 0x559d6e370700] \u001b[0mi8 v,h,dc,ddl,ddr,vr,hd,vl,hu: 21% 11%  5%  7% 12% 12%  9% 12% 11%\n",
      "\u001b[1;36m[libx264 @ 0x559d6e370700] \u001b[0mi4 v,h,dc,ddl,ddr,vr,hd,vl,hu: 21% 12%  8%  5% 12% 14%  8% 12%  8%\n",
      "\u001b[1;36m[libx264 @ 0x559d6e370700] \u001b[0mi8c dc,h,v,p: 100%  0%  0%  0%\n",
      "\u001b[1;36m[libx264 @ 0x559d6e370700] \u001b[0mWeighted P-Frames: Y:61.5% UV:7.7%\n",
      "\u001b[1;36m[libx264 @ 0x559d6e370700] \u001b[0mref P L0: 26.6% 10.3% 22.0% 26.8% 14.2%\n",
      "\u001b[1;36m[libx264 @ 0x559d6e370700] \u001b[0mref B L0: 58.5% 30.2% 11.4%\n",
      "\u001b[1;36m[libx264 @ 0x559d6e370700] \u001b[0mref B L1: 77.6% 22.4%\n",
      "\u001b[1;36m[libx264 @ 0x559d6e370700] \u001b[0mkb/s:286.97\n"
     ]
    }
   ],
   "source": [
    "!ffmpeg -framerate 5 -pattern_type glob -i $VIDEOS_PATH\"/output/*.png\" -c:v libx264 -pix_fmt yuv420p $output_video_path -y"
   ]
  }
 ],
 "metadata": {
  "kernelspec": {
   "display_name": "text2video",
   "language": "python",
   "name": "text2video"
  },
  "language_info": {
   "codemirror_mode": {
    "name": "ipython",
    "version": 3
   },
   "file_extension": ".py",
   "mimetype": "text/x-python",
   "name": "python",
   "nbconvert_exporter": "python",
   "pygments_lexer": "ipython3",
   "version": "3.10.0"
  }
 },
 "nbformat": 4,
 "nbformat_minor": 5
}
