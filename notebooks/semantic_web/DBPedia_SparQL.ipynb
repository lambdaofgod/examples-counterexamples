{
 "cells": [
  {
   "cell_type": "code",
   "execution_count": 1,
   "id": "6d4a372a-b232-4fa2-b032-cd348e570266",
   "metadata": {},
   "outputs": [],
   "source": [
    "import SPARQLWrapper\n",
    "import rdflib\n",
    "import pandas as pd\n",
    "import tqdm\n",
    "from mlutil.semantic_web_utils import *\n",
    "from mlutil import semantic_web_utils"
   ]
  },
  {
   "cell_type": "markdown",
   "id": "7332da9a-402b-4193-b297-2aa6634d1876",
   "metadata": {},
   "source": [
    "# Querying DBPedia with SPARQL\n",
    "\n",
    "The code for querying DBPedia can be found in [lambdaofgod/mlutil semantic_web_utils file](https://github.com/lambdaofgod/mlutil/blob/master/mlutil/semantic_web_utils.py)\n",
    "\n",
    "We find DBPedia entities related to machine learning.\n",
    "\n",
    "To do this we first find concepts related to ML, and then query triplets\n",
    "```\n",
    "?entity ?property ?ml_entity_name \n",
    "```\n",
    "Where we specify `?ml_entity_name` as coming from a prespecified list\n",
    "and `?property` to capture relationship as being the subject discipline of ML, or being related by Wikipedia links.\n",
    "\n",
    "\n",
    "# Notes\n",
    "\n",
    "rdf types are bogus:\n",
    "- Similarty learning - place\n",
    "- Machine learning - Thing, Disease, MusicGenre"
   ]
  },
  {
   "cell_type": "code",
   "execution_count": 2,
   "id": "807428b2-b3f1-44c9-b2e9-969f1db335f3",
   "metadata": {},
   "outputs": [],
   "source": [
    "query = '''\n",
    "SELECT ?child ?label ?abstract\n",
    "WHERE {\n",
    "    {\n",
    "        ?child skos:broader dbc:Machine_learning . \n",
    "        ?child rdfs:label ?label .\n",
    "    }\n",
    "UNION {\n",
    "        ?child dct:subject dbc:Machine_learning .\n",
    "        ?child rdfs:label ?label .\n",
    "        ?child dbo:abstract ?abstract .\n",
    "        FILTER (lang(?abstract) = 'en')\n",
    "    }\n",
    "UNION {\n",
    "        ?child dbo:wikiPageWikiLink dbc:Machine_learning . \n",
    "        ?child rdfs:label ?label .\n",
    "        ?child dbo:abstract ?abstract .\n",
    "}\n",
    "}'''"
   ]
  },
  {
   "cell_type": "code",
   "execution_count": 3,
   "id": "597d00a3-46b8-4780-a0b5-af031de5f0ec",
   "metadata": {},
   "outputs": [
    {
     "name": "stdout",
     "output_type": "stream",
     "text": [
      "CPU times: user 91.2 ms, sys: 28.2 ms, total: 119 ms\n",
      "Wall time: 2.63 s\n"
     ]
    }
   ],
   "source": [
    "%%time\n",
    "res = get_sparql_results(query)"
   ]
  },
  {
   "cell_type": "code",
   "execution_count": 4,
   "id": "31e1f6d1-0be5-4ee0-abc9-39494258f784",
   "metadata": {},
   "outputs": [
    {
     "data": {
      "text/plain": [
       "6679"
      ]
     },
     "execution_count": 4,
     "metadata": {},
     "output_type": "execute_result"
    }
   ],
   "source": [
    "len(res['results']['bindings'])"
   ]
  },
  {
   "cell_type": "markdown",
   "id": "cf903622-413b-41c5-97c3-4f79fccbd9cc",
   "metadata": {},
   "source": [
    "Query for selecting entities that link to machine learning page and have abstracts"
   ]
  },
  {
   "cell_type": "code",
   "execution_count": 5,
   "id": "f5f80561-2861-45d0-919f-6c4ccae82b6f",
   "metadata": {},
   "outputs": [
    {
     "name": "stdout",
     "output_type": "stream",
     "text": [
      "{\n",
      "        ?child dbo:wikiPageWikiLink dbc:Machine_learning .\n",
      "        FILTER (lang(?label) = 'en') .\n",
      "        ?child rdfs:label ?label .\n",
      "        ?child dbo:abstract ?abstract  .\n",
      "        FILTER (lang(?abstract) = 'en') .\n",
      "        ?child rdf:type ?child_type .\n",
      "    }\n"
     ]
    }
   ],
   "source": [
    "print(semantic_web_utils._make_relation_to_selected_subject_where_phrase(\"dbo:wikiPageWikiLink\", \"dbc:Machine_learning\"))"
   ]
  },
  {
   "cell_type": "markdown",
   "id": "d22f4758-fe32-4f4a-a828-f1f82db08548",
   "metadata": {},
   "source": [
    "## Machine-learning related entries\n",
    "\n",
    "In this query we retrieve entities that either:\n",
    "1) are less broad than Machine learning\n",
    "2) are subject in machine learning\n",
    "3) are linked to from machine learning wikipedia page\n",
    "\n",
    "For entries other than 1) we also filter out ones that do not have an abstract"
   ]
  },
  {
   "cell_type": "code",
   "execution_count": 6,
   "id": "8abeb914-2501-4d88-9dd9-085619f8f0e1",
   "metadata": {},
   "outputs": [],
   "source": [
    "ml_properties_query = f\"\"\"\n",
    "SELECT DISTINCT ?property ?property_label\n",
    "WHERE {{\n",
    "    ?object ?property ?ml  .\n",
    "    ?ml rdfs:label 'Machine learning'@en .\n",
    "    ?property rdfs:label ?property_label .\n",
    "    FILTER (lang(?property_label) = 'en')\n",
    "}}\n",
    "\"\"\""
   ]
  },
  {
   "cell_type": "code",
   "execution_count": 7,
   "id": "b3e7de50-fbd1-481c-a76a-48f268565df8",
   "metadata": {},
   "outputs": [
    {
     "data": {
      "text/plain": [
       "24"
      ]
     },
     "execution_count": 7,
     "metadata": {},
     "output_type": "execute_result"
    }
   ],
   "source": [
    "len(get_sparql_results(ml_properties_query)['results']['bindings'])"
   ]
  },
  {
   "cell_type": "code",
   "execution_count": 8,
   "id": "2ba20048-727e-4910-ade1-8002f2590e66",
   "metadata": {},
   "outputs": [],
   "source": [
    "ml_related_query = f\"\"\"\n",
    "SELECT DISTINCT ?object ?object_label\n",
    "WHERE {{\n",
    "    ?object dbo:wikiPageRedirects  ?ml  .\n",
    "    ?ml rdfs:label 'Machine learning'@en .\n",
    "    ?object rdfs:label ?object_label .\n",
    "    FILTER (lang(?object_label) = 'en')\n",
    "}}\n",
    "\"\"\""
   ]
  },
  {
   "cell_type": "code",
   "execution_count": 9,
   "id": "ec8bcd56-ab37-4e2b-8f40-76e8704b2fa9",
   "metadata": {},
   "outputs": [],
   "source": [
    "ml_related_results = get_sparql_results(ml_related_query)['results']['bindings']"
   ]
  },
  {
   "cell_type": "code",
   "execution_count": 10,
   "id": "3f80a348-dba9-4e3f-87c1-348fea055836",
   "metadata": {},
   "outputs": [],
   "source": [
    "ml_related_records = [res['object_label']['value'] for res in ml_related_results]"
   ]
  },
  {
   "cell_type": "code",
   "execution_count": 11,
   "id": "e6210e8b-0dad-45c0-bb83-a04267853e9a",
   "metadata": {},
   "outputs": [
    {
     "data": {
      "text/plain": [
       "['Adaptive machine learning',\n",
       " 'Machine-learned',\n",
       " 'Machine-learning',\n",
       " 'Machine learning algorithm',\n",
       " 'Machine learning applied',\n",
       " 'Embedded Machine Learning',\n",
       " 'Ethics in machine learning',\n",
       " 'Feature discovery',\n",
       " 'Self-learning (machine learning)',\n",
       " 'Self-teaching computer',\n",
       " 'Automatic learning algorithms',\n",
       " 'Applications of machine learning',\n",
       " 'Applying machine learning',\n",
       " 'Applied machine learning',\n",
       " 'Ethics of machine learning',\n",
       " 'Machine Learning',\n",
       " 'History of machine learning',\n",
       " 'List of open-source machine learning software',\n",
       " 'List of machine learning software',\n",
       " 'Genetic algorithms for machine learning',\n",
       " 'Computer machine learning',\n",
       " 'Statistical learning',\n",
       " 'Ethical issues in machine learning',\n",
       " 'Strengthening learning algorithms',\n",
       " 'Learning algorithm',\n",
       " 'Learning algorithms',\n",
       " 'Learning machine']"
      ]
     },
     "execution_count": 11,
     "metadata": {},
     "output_type": "execute_result"
    }
   ],
   "source": [
    "ml_related_records"
   ]
  },
  {
   "cell_type": "code",
   "execution_count": 12,
   "id": "541b33ea-878d-44a2-a1fd-1ea68569bb34",
   "metadata": {},
   "outputs": [],
   "source": [
    "q = f\"\"\"\n",
    "SELECT ?label\n",
    "WHERE\n",
    "{{dbc:Machine_learning rdfs:label ?label}}\n",
    "\"\"\""
   ]
  },
  {
   "cell_type": "code",
   "execution_count": 13,
   "id": "99798231-9757-43e8-acd2-5cd992c531f8",
   "metadata": {},
   "outputs": [
    {
     "data": {
      "application/vnd.jupyter.widget-view+json": {
       "model_id": "6f40beb9b4734ecfab0a594d9e237059",
       "version_major": 2,
       "version_minor": 0
      },
      "text/plain": [
       "  0%|          | 0/26 [00:00<?, ?it/s]"
      ]
     },
     "metadata": {},
     "output_type": "display_data"
    }
   ],
   "source": [
    "ml_related_records_names = [n.replace(\" \", \"_\") for n in ml_related_records if not \"(\" in n]\n",
    "entity_names = [\n",
    "    \"Machine_learning\", \"Deep_learning\", \"Statistical_learning_theory\",\n",
    "    \"Natural_language_processing\", \"Computer_vision\", \"Time_series\",\n",
    "    \"Reinforcement_learning\", \"Neural_networks\", \"Feature_engineering\",\n",
    "    \"Supervised_learning\", \"Unsupervised_learning\", \"Pattern_recognition\",\n",
    "    \"Learning_algorithm\"\n",
    "]\n",
    "\n",
    "entities = [\n",
    "    pref + name\n",
    "    for pref in [\"dbc:\", \"dbr:\"]\n",
    "    for name in entity_names\n",
    "]\n",
    "\n",
    "results = get_related_concepts_results(entities)"
   ]
  },
  {
   "cell_type": "code",
   "execution_count": 14,
   "id": "b3ed000a-1f8d-4f18-8442-db082ec8e17f",
   "metadata": {},
   "outputs": [],
   "source": [
    "raw_df = make_dataframe_from_results(results)"
   ]
  },
  {
   "cell_type": "code",
   "execution_count": 15,
   "id": "276417d4-fecb-4275-8abb-c8891e86e228",
   "metadata": {},
   "outputs": [
    {
     "data": {
      "text/plain": [
       "5717"
      ]
     },
     "execution_count": 15,
     "metadata": {},
     "output_type": "execute_result"
    }
   ],
   "source": [
    "len(raw_df)"
   ]
  },
  {
   "cell_type": "code",
   "execution_count": 16,
   "id": "94aa7220-dbf7-4172-b6e0-f07ee0e4c9f8",
   "metadata": {},
   "outputs": [
    {
     "data": {
      "text/plain": [
       "3560"
      ]
     },
     "execution_count": 16,
     "metadata": {},
     "output_type": "execute_result"
    }
   ],
   "source": [
    "len(filter_out_people(raw_df))"
   ]
  },
  {
   "cell_type": "code",
   "execution_count": 17,
   "id": "bfc98a3f-7b19-49f0-8b99-fed1d410190f",
   "metadata": {},
   "outputs": [
    {
     "data": {
      "text/html": [
       "<div>\n",
       "<style scoped>\n",
       "    .dataframe tbody tr th:only-of-type {\n",
       "        vertical-align: middle;\n",
       "    }\n",
       "\n",
       "    .dataframe tbody tr th {\n",
       "        vertical-align: top;\n",
       "    }\n",
       "\n",
       "    .dataframe thead th {\n",
       "        text-align: right;\n",
       "    }\n",
       "</style>\n",
       "<table border=\"1\" class=\"dataframe\">\n",
       "  <thead>\n",
       "    <tr style=\"text-align: right;\">\n",
       "      <th></th>\n",
       "      <th>child</th>\n",
       "      <th>label</th>\n",
       "      <th>abstract</th>\n",
       "      <th>child_type</th>\n",
       "    </tr>\n",
       "  </thead>\n",
       "  <tbody>\n",
       "    <tr>\n",
       "      <th>0</th>\n",
       "      <td>http://dbpedia.org/resource/Word2vec</td>\n",
       "      <td>Word2vec</td>\n",
       "      <td>Word2vec is a technique for natural language p...</td>\n",
       "      <td>http://dbpedia.org/ontology/Band http://dbpedi...</td>\n",
       "    </tr>\n",
       "    <tr>\n",
       "      <th>1</th>\n",
       "      <td>http://dbpedia.org/resource/Rademacher_complexity</td>\n",
       "      <td>Rademacher complexity</td>\n",
       "      <td>In computational learning theory (machine lear...</td>\n",
       "      <td>http://dbpedia.org/class/yago/YagoPermanentlyL...</td>\n",
       "    </tr>\n",
       "    <tr>\n",
       "      <th>2</th>\n",
       "      <td>http://dbpedia.org/resource/Random_indexing</td>\n",
       "      <td>Random indexing</td>\n",
       "      <td>Random indexing is a dimensionality reduction ...</td>\n",
       "      <td>http://dbpedia.org/ontology/Software http://db...</td>\n",
       "    </tr>\n",
       "    <tr>\n",
       "      <th>3</th>\n",
       "      <td>http://dbpedia.org/resource/Similarity_learning</td>\n",
       "      <td>Similarity learning</td>\n",
       "      <td>Similarity learning is an area of supervised m...</td>\n",
       "      <td>http://dbpedia.org/ontology/Place http://dbped...</td>\n",
       "    </tr>\n",
       "    <tr>\n",
       "      <th>4</th>\n",
       "      <td>http://dbpedia.org/resource/Cross-entropy_method</td>\n",
       "      <td>Cross-entropy method</td>\n",
       "      <td>The cross-entropy (CE) method is a Monte Carlo...</td>\n",
       "      <td>http://dbpedia.org/class/yago/WikicatHeuristic...</td>\n",
       "    </tr>\n",
       "    <tr>\n",
       "      <th>...</th>\n",
       "      <td>...</td>\n",
       "      <td>...</td>\n",
       "      <td>...</td>\n",
       "      <td>...</td>\n",
       "    </tr>\n",
       "    <tr>\n",
       "      <th>5709</th>\n",
       "      <td>http://dbpedia.org/resource/Revoicer</td>\n",
       "      <td>Revoicer</td>\n",
       "      <td>A revoicer provides communication assistance b...</td>\n",
       "      <td>http://dbpedia.org/class/yago/Abstraction10000...</td>\n",
       "    </tr>\n",
       "    <tr>\n",
       "      <th>5710</th>\n",
       "      <td>http://dbpedia.org/resource/Currency-counting_...</td>\n",
       "      <td>Currency-counting machine</td>\n",
       "      <td>A currency-counting machine is a machine that ...</td>\n",
       "      <td>http://dbpedia.org/ontology/Software</td>\n",
       "    </tr>\n",
       "    <tr>\n",
       "      <th>5712</th>\n",
       "      <td>http://dbpedia.org/resource/Multivariate_optic...</td>\n",
       "      <td>Multivariate optical computing</td>\n",
       "      <td>Multivariate optical computing, also known as ...</td>\n",
       "      <td>http://dbpedia.org/ontology/ProgrammingLanguage</td>\n",
       "    </tr>\n",
       "    <tr>\n",
       "      <th>5713</th>\n",
       "      <td>http://dbpedia.org/resource/Transcomputational...</td>\n",
       "      <td>Transcomputational problem</td>\n",
       "      <td>In computational complexity theory, a transcom...</td>\n",
       "      <td>http://dbpedia.org/ontology/Disease</td>\n",
       "    </tr>\n",
       "    <tr>\n",
       "      <th>5716</th>\n",
       "      <td>http://dbpedia.org/resource/Electronic_nose</td>\n",
       "      <td>Electronic nose</td>\n",
       "      <td>An electronic nose is an electronic sensing de...</td>\n",
       "      <td>http://dbpedia.org/ontology/Device http://dbpe...</td>\n",
       "    </tr>\n",
       "  </tbody>\n",
       "</table>\n",
       "<p>4215 rows × 4 columns</p>\n",
       "</div>"
      ],
      "text/plain": [
       "                                                  child  \\\n",
       "0                  http://dbpedia.org/resource/Word2vec   \n",
       "1     http://dbpedia.org/resource/Rademacher_complexity   \n",
       "2           http://dbpedia.org/resource/Random_indexing   \n",
       "3       http://dbpedia.org/resource/Similarity_learning   \n",
       "4      http://dbpedia.org/resource/Cross-entropy_method   \n",
       "...                                                 ...   \n",
       "5709               http://dbpedia.org/resource/Revoicer   \n",
       "5710  http://dbpedia.org/resource/Currency-counting_...   \n",
       "5712  http://dbpedia.org/resource/Multivariate_optic...   \n",
       "5713  http://dbpedia.org/resource/Transcomputational...   \n",
       "5716        http://dbpedia.org/resource/Electronic_nose   \n",
       "\n",
       "                               label  \\\n",
       "0                           Word2vec   \n",
       "1              Rademacher complexity   \n",
       "2                    Random indexing   \n",
       "3                Similarity learning   \n",
       "4               Cross-entropy method   \n",
       "...                              ...   \n",
       "5709                        Revoicer   \n",
       "5710       Currency-counting machine   \n",
       "5712  Multivariate optical computing   \n",
       "5713      Transcomputational problem   \n",
       "5716                 Electronic nose   \n",
       "\n",
       "                                               abstract  \\\n",
       "0     Word2vec is a technique for natural language p...   \n",
       "1     In computational learning theory (machine lear...   \n",
       "2     Random indexing is a dimensionality reduction ...   \n",
       "3     Similarity learning is an area of supervised m...   \n",
       "4     The cross-entropy (CE) method is a Monte Carlo...   \n",
       "...                                                 ...   \n",
       "5709  A revoicer provides communication assistance b...   \n",
       "5710  A currency-counting machine is a machine that ...   \n",
       "5712  Multivariate optical computing, also known as ...   \n",
       "5713  In computational complexity theory, a transcom...   \n",
       "5716  An electronic nose is an electronic sensing de...   \n",
       "\n",
       "                                             child_type  \n",
       "0     http://dbpedia.org/ontology/Band http://dbpedi...  \n",
       "1     http://dbpedia.org/class/yago/YagoPermanentlyL...  \n",
       "2     http://dbpedia.org/ontology/Software http://db...  \n",
       "3     http://dbpedia.org/ontology/Place http://dbped...  \n",
       "4     http://dbpedia.org/class/yago/WikicatHeuristic...  \n",
       "...                                                 ...  \n",
       "5709  http://dbpedia.org/class/yago/Abstraction10000...  \n",
       "5710               http://dbpedia.org/ontology/Software  \n",
       "5712    http://dbpedia.org/ontology/ProgrammingLanguage  \n",
       "5713                http://dbpedia.org/ontology/Disease  \n",
       "5716  http://dbpedia.org/ontology/Device http://dbpe...  \n",
       "\n",
       "[4215 rows x 4 columns]"
      ]
     },
     "execution_count": 17,
     "metadata": {},
     "output_type": "execute_result"
    }
   ],
   "source": [
    "raw_df.drop_duplicates(subset=\"label\")"
   ]
  },
  {
   "cell_type": "code",
   "execution_count": 18,
   "id": "707b7c75-c608-47bb-85e1-15fde3ac2a9d",
   "metadata": {},
   "outputs": [
    {
     "name": "stdout",
     "output_type": "stream",
     "text": [
      "CPU times: user 95.5 ms, sys: 31.8 ms, total: 127 ms\n",
      "Wall time: 3.32 s\n"
     ]
    }
   ],
   "source": [
    "%%time\n",
    "raw_ml_subrecords_results = get_sparql_results(query)"
   ]
  },
  {
   "cell_type": "code",
   "execution_count": 19,
   "id": "175470ec-1165-4569-839b-d57b2039f4fa",
   "metadata": {},
   "outputs": [
    {
     "data": {
      "text/plain": [
       "6679"
      ]
     },
     "execution_count": 19,
     "metadata": {},
     "output_type": "execute_result"
    }
   ],
   "source": [
    "results = raw_ml_subrecords_results['results']['bindings']\n",
    "len(results)"
   ]
  },
  {
   "cell_type": "markdown",
   "id": "459e6449-07fc-40f3-8f90-3271f8091110",
   "metadata": {},
   "source": [
    "## DBPedia - two types\n",
    "\n",
    "DBPedia contains two entities for a broad concept:\n",
    "- its entity from wikipedia\n",
    "- entity for wikipedia page with links to more specific concepts"
   ]
  },
  {
   "cell_type": "code",
   "execution_count": 20,
   "id": "62c840f7-954b-44fe-9b79-8e48f9bb046c",
   "metadata": {},
   "outputs": [],
   "source": [
    "q = f\"\"\"SELECT ?child ?label\n",
    "WHERE {{\n",
    "    ?child rdfs:label ?label .\n",
    "    FILTER (?label = 'Semisupervised learning'@en)\n",
    "}}\n",
    "\"\"\""
   ]
  },
  {
   "cell_type": "code",
   "execution_count": 21,
   "id": "66bdbd26-bf6f-412e-b0e8-19f47ce34462",
   "metadata": {},
   "outputs": [
    {
     "name": "stdout",
     "output_type": "stream",
     "text": [
      "SELECT ?child ?label\n",
      "WHERE {\n",
      "    ?child rdfs:label ?label .\n",
      "    FILTER (?label = 'Semisupervised learning'@en)\n",
      "}\n",
      "\n"
     ]
    }
   ],
   "source": [
    "print(q)"
   ]
  },
  {
   "cell_type": "code",
   "execution_count": 22,
   "id": "51624d3e-cda0-488a-9c92-92757f8790d9",
   "metadata": {},
   "outputs": [
    {
     "data": {
      "text/plain": [
       "{'head': {'link': [], 'vars': ['child', 'label']},\n",
       " 'results': {'distinct': False,\n",
       "  'ordered': True,\n",
       "  'bindings': [{'child': {'type': 'uri',\n",
       "     'value': 'http://dbpedia.org/resource/Category:Semisupervised_learning'},\n",
       "    'label': {'type': 'literal',\n",
       "     'xml:lang': 'en',\n",
       "     'value': 'Semisupervised learning'}},\n",
       "   {'child': {'type': 'uri',\n",
       "     'value': 'http://dbpedia.org/resource/Semisupervised_learning'},\n",
       "    'label': {'type': 'literal',\n",
       "     'xml:lang': 'en',\n",
       "     'value': 'Semisupervised learning'}}]}}"
      ]
     },
     "execution_count": 22,
     "metadata": {},
     "output_type": "execute_result"
    }
   ],
   "source": [
    "get_sparql_results(q)"
   ]
  }
 ],
 "metadata": {
  "kernelspec": {
   "display_name": "Python 3",
   "language": "python",
   "name": "python3"
  },
  "language_info": {
   "codemirror_mode": {
    "name": "ipython",
    "version": 3
   },
   "file_extension": ".py",
   "mimetype": "text/x-python",
   "name": "python",
   "nbconvert_exporter": "python",
   "pygments_lexer": "ipython3",
   "version": "3.8.10"
  }
 },
 "nbformat": 4,
 "nbformat_minor": 5
}
