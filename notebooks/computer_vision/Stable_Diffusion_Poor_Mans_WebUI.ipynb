{
 "cells": [
  {
   "cell_type": "markdown",
   "id": "ffe79dc0",
   "metadata": {},
   "source": [
    "# Face scoring\n",
    "\n",
    "This notebook generates faces using Stable Diffusion implementation from diffusers.\n",
    "\n",
    "The generation process depends on a seed that makes the results deterministic.\n",
    "\n",
    "For generated images we then:\n",
    "- run a method that runs MTCNN from `facenet_pytorch` to extract faces\n",
    "- use FaceNet model to extract features that are used for comparing faces"
   ]
  },
  {
   "cell_type": "code",
   "execution_count": null,
   "id": "8994fd5b",
   "metadata": {},
   "outputs": [],
   "source": [
    "from facenet_pytorch import MTCNN, InceptionResnetV1\n",
    "\n",
    "import glob\n",
    "import matplotlib.pyplot as plt\n",
    "import skimage.io\n",
    "import torch\n",
    "from torch import nn\n",
    "from diffusers import (\n",
    "    StableDiffusionPipeline,\n",
    "    StableDiffusionImg2ImgPipeline,\n",
    "    StableDiffusionInpaintPipeline,\n",
    "    EulerDiscreteScheduler,\n",
    ")\n",
    "\n",
    "from IPython import display\n",
    "import ipywidgets\n",
    "import ipyplot\n",
    "import os\n",
    "import numpy as np\n",
    "\n",
    "import face_scoring\n",
    "import diffusers"
   ]
  },
  {
   "cell_type": "code",
   "execution_count": null,
   "id": "fd68e759",
   "metadata": {},
   "outputs": [],
   "source": [
    "auth_token = open(\"auth_token.txt\").read().strip()"
   ]
  },
  {
   "cell_type": "code",
   "execution_count": null,
   "id": "43ae7d67",
   "metadata": {},
   "outputs": [],
   "source": [
    "%matplotlib inline"
   ]
  },
  {
   "cell_type": "code",
   "execution_count": null,
   "id": "95eec6b1",
   "metadata": {},
   "outputs": [],
   "source": [
    "plt.style.use(\"dark_background\")"
   ]
  },
  {
   "cell_type": "code",
   "execution_count": null,
   "id": "683d7465",
   "metadata": {},
   "outputs": [],
   "source": [
    "def make_viewable_image_tensor(img_tensor):\n",
    "    missing_img_nd = (img_tensor - img_tensor.min()) / (\n",
    "        img_tensor.max() - img_tensor.min()\n",
    "    )\n",
    "    return missing_img_nd.cpu().numpy().transpose([1, 2, 0])"
   ]
  },
  {
   "cell_type": "code",
   "execution_count": null,
   "id": "b4aa2ef6",
   "metadata": {},
   "outputs": [],
   "source": [
    "#old_sd_model_name = \"CompVis/stable-diffusion-v1-4\"\n",
    "old_sd_model_name = \"runwayml/stable-diffusion-v1-5\"\n",
    "sd_model_name = \"stabilityai/stable-diffusion-2\"\n",
    "model_id = sd_model_name \n",
    "# pipe = StableDiffusionPipeline.from_pretrained(sd_model_name, revision=\"fp16\", torch_dtype=torch.float16, use_auth_token=auth_token)"
   ]
  },
  {
   "cell_type": "code",
   "execution_count": null,
   "id": "2533a7aa",
   "metadata": {},
   "outputs": [],
   "source": [
    "sd_ver = os.path.split(model_id)[1].replace(\"stable-diffusion-\", \"\")"
   ]
  },
  {
   "cell_type": "code",
   "execution_count": null,
   "id": "dde006c1",
   "metadata": {},
   "outputs": [],
   "source": [
    "scheduler = EulerDiscreteScheduler.from_pretrained(model_id, subfolder=\"scheduler\")\n",
    "pipe = StableDiffusionPipeline.from_pretrained(\n",
    "    model_id, scheduler=scheduler, revision=\"fp16\", torch_dtype=torch.float16\n",
    ")\n",
    "pipe = pipe.to(\"cuda\")"
   ]
  },
  {
   "cell_type": "markdown",
   "id": "48520405",
   "metadata": {},
   "source": [
    "## Prompts"
   ]
  },
  {
   "cell_type": "code",
   "execution_count": null,
   "id": "359bb9e6",
   "metadata": {},
   "outputs": [],
   "source": [
    "all_prompts = \"\"\"\n",
    "Professional portrait of {} as President of United States, looking away, serious eyes, 50mm portrait, photography, hard rim lighting photography –ar 2:3 –beta –upbeta\n",
    "{} in Cyberpunk, portrait, RTX, high resolution\n",
    "{} in minecraft, raytraced 4k\n",
    "Mongolian {} portrait, highly detailed, 4 k, hdr, smooth, sharp focus, high resolution, award – winning photo\n",
    "Film still of {} in 80s sitcom, upbeat\n",
    "Film still of {} in Game of Thrones\n",
    "{} painting by Leonardo da Vinci\n",
    "{} as religious figure, national geographic, portrait, photo, photography –s 625 –q 2 –iw 3\n",
    "Still shot of {} on Joe Rogan podcast,  hard rim lighting photography–beta –ar 2:3 –beta –upbeta –beta –upbeta –beta –upbeta\n",
    "{} bust, greek sculpture, Unreal Engine 4k\n",
    "{} in the style of Norman Rockwell\n",
    "Fauvist {} painting\n",
    "{} surrounded by foliage, dreamy autochrome pinhole photography\n",
    "ultrarealistic, {} portrait, cinematic lighting, award winning photo, no color, 80mm lense –beta –upbeta –upbeta\n",
    "full length photo of {} as a warrior, highly detailed, 4 k, hdr, smooth, sharp focus, high resolution, award – winning photo\n",
    "{} as GTA V cover character\n",
    "\"\"\".strip().split(\n",
    "    \"\\n\"\n",
    ")"
   ]
  },
  {
   "cell_type": "code",
   "execution_count": null,
   "id": "e16bdbce",
   "metadata": {},
   "outputs": [],
   "source": [
    "small_prompts = \"\"\"\n",
    "{} psychedelic trance album cover\n",
    "{} in Cyberpunk portrait, PS2, high resolution\n",
    "Mongolian {} portrait, highly detailed, 4 k, hdr, smooth, sharp focus, high resolution, award – winning photo\n",
    "{} renaissance painting by Leonardo da Vinci\n",
    "{} as religious figure, national geographic, portrait, photo, photography –s 625 –q 2 –iw 3\n",
    "{} bust, greek sculpture, Unreal Engine 4k\n",
    "{} in the style of Norman Rockwell\n",
    "Fauvist {} painting\n",
    "{} as GTA V cover character\n",
    "\"\"\".strip().split(\n",
    "    \"\\n\"\n",
    ")"
   ]
  },
  {
   "cell_type": "code",
   "execution_count": null,
   "id": "05bbefc3",
   "metadata": {},
   "outputs": [],
   "source": [
    "prompts = all_prompts"
   ]
  },
  {
   "cell_type": "code",
   "execution_count": null,
   "id": "48d6b187",
   "metadata": {},
   "outputs": [],
   "source": [
    "def save_images(named_imgs, save_dir):\n",
    "    for name, imgs in named_imgs.items():\n",
    "        for i, img in enumerate(imgs):\n",
    "            fname = name + \"_\" + str(i) + \".jpg\"\n",
    "            img.save(open(os.path.join(save_dir, fname), \"wb\"))\n",
    "\n",
    "\n",
    "def get_imgs(\n",
    "    prompts,\n",
    "    X,\n",
    "    height=512,\n",
    "    width=512,\n",
    "    num_inference_steps=100,\n",
    "    display_imgs=True,\n",
    "    num_images_per_prompt=3,\n",
    "    **kwargs\n",
    "):\n",
    "    rgenerator = torch.Generator(\"cuda\").manual_seed(2137)\n",
    "    for raw_prompt in prompts:\n",
    "        prompt = raw_prompt.format(X)\n",
    "        with torch.cuda.amp.autocast():\n",
    "            imgs = pipe(\n",
    "                prompt,\n",
    "                height=height,\n",
    "                width=width,\n",
    "                num_inference_steps=num_inference_steps,\n",
    "                generator=rgenerator,\n",
    "                num_images_per_prompt=num_images_per_prompt,\n",
    "                **kwargs\n",
    "            ).images\n",
    "        if display_imgs:\n",
    "            print(prompt)\n",
    "            ipyplot.plot_images(imgs, img_width=256)\n",
    "        yield prompt, imgs"
   ]
  },
  {
   "cell_type": "code",
   "execution_count": null,
   "id": "1be29fb7",
   "metadata": {},
   "outputs": [],
   "source": [
    "sd_ver"
   ]
  },
  {
   "cell_type": "code",
   "execution_count": null,
   "id": "e24bd086",
   "metadata": {},
   "outputs": [],
   "source": [
    "weird_queries = [\n",
    "    \"Escher style pencil drawing of octopus on a bicycle{}\",\n",
    "    \"Alex Jones portrait, psychedelic trance album cover{}\",\n",
    "    \"Escher style pencil drawing of octopus bicycle{}\",\n",
    "    \"Leonardo da Vinci pencil drawing of octopus riding a bicycle{}\",\n",
    "    \"Xenomorph birthday party{}\",\n",
    "    \"Jewish octopus playing with dreidel{}\",\n",
    "    \"Octopus circle limit by Escher{}\"\n",
    "]\n",
    "weird_imgs = dict(get_imgs(weird_queries, \"\", num_inference_steps=100, guidance_scale=12.5))"
   ]
  },
  {
   "cell_type": "code",
   "execution_count": null,
   "id": "934876b0",
   "metadata": {},
   "outputs": [],
   "source": [
    "!mkdir weird_images$sd_ver\n",
    "!mkdir still_lifes$sd_ver"
   ]
  },
  {
   "cell_type": "code",
   "execution_count": null,
   "id": "d770ba8e",
   "metadata": {},
   "outputs": [],
   "source": [
    "save_images(weird_imgs, \"weird_images\" + sd_ver)"
   ]
  },
  {
   "cell_type": "code",
   "execution_count": null,
   "id": "74d3daba",
   "metadata": {},
   "outputs": [],
   "source": [
    "octo_prompts = [\"Octopus circle limit, pencil drawing by Escher{}\", \"Octopus circle limit by Escher{}\", \"Octopus floor tiling by Escher{}\"]\n",
    "octo_imgs = dict(get_imgs([\"Greek octopus meanders floor tiling{}\"], \"\",\n",
    "                          num_inference_steps=100, negative_prompt=\"blurry\", guidance_scale=10))"
   ]
  },
  {
   "cell_type": "code",
   "execution_count": null,
   "id": "99d14991",
   "metadata": {},
   "outputs": [],
   "source": [
    "save_images(octo_imgs, \"weird_images\"+ sd_ver)"
   ]
  },
  {
   "cell_type": "code",
   "execution_count": null,
   "id": "025febd7",
   "metadata": {},
   "outputs": [],
   "source": [
    "medit_imgs = dict(get_imgs([\"A white bunny meditating under a tree, Chinese lanscape ink painting{}\"], \"\",\n",
    "                           num_inference_steps=100, negative_prompt=\"realistic, blurry\" , height=768, width=384, guidance_scale=15.0))"
   ]
  },
  {
   "cell_type": "code",
   "execution_count": null,
   "id": "95bbbcc5",
   "metadata": {},
   "outputs": [],
   "source": [
    "save_images(medit_imgs, \"weird_images\" + sd_ver)"
   ]
  },
  {
   "cell_type": "code",
   "execution_count": null,
   "id": "5319e4ed",
   "metadata": {},
   "outputs": [],
   "source": [
    "japanese_imgs = dict(get_imgs([\"A white bunny meditating under a tree, Edo period woodblock print{}\"], \"\",\n",
    "                           num_inference_steps=100, height=768, width=384, negative_prompt=\"realistic, blurry\" , guidance_scale=20.0))"
   ]
  },
  {
   "cell_type": "code",
   "execution_count": null,
   "id": "541a6c74",
   "metadata": {},
   "outputs": [],
   "source": [
    "save_images(japanese_imgs, \"weird_images\" + sd_ver)"
   ]
  },
  {
   "cell_type": "code",
   "execution_count": null,
   "id": "64619943",
   "metadata": {},
   "outputs": [],
   "source": [
    "still_life_imgs = dict(get_imgs([\"Postimpressionistic still life with an octopus{}\", \"XVII century still life with Walnuts, a Tobacco Packet, and a White Jug on a Table\"], \"\",\n",
    "                           num_inference_steps=100, negative_prompt=\"realistic, blurry\" , guidance_scale=20.0))"
   ]
  },
  {
   "cell_type": "code",
   "execution_count": null,
   "id": "418a8e79",
   "metadata": {},
   "outputs": [],
   "source": [
    "save_images(still_life_imgs, \"still_lifes\" + sd_ver)"
   ]
  },
  {
   "cell_type": "code",
   "execution_count": null,
   "id": "dba62ce4",
   "metadata": {},
   "outputs": [],
   "source": [
    "xeno_prompts= [\n",
    "    \"Photorealistic xenomorph pinata, highly detailed, 4 k, hdr, smooth, sharp focus, high resolution, award – winning photo{}\",\n",
    "    \"Xenomorph urinal, interior, highly detailed, 4 k, hdr, smooth, sharp focus, high resolution, award – winning photo\"\n",
    "]\n",
    "xeno_imgs = dict(get_imgs(xeno_prompts, \"\",\n",
    "                           num_inference_steps=100 , guidance_scale=15.0))\n",
    "save_images(xeno_imgs, \"weird_images\" + sd_ver)"
   ]
  }
 ],
 "metadata": {
  "kernelspec": {
   "display_name": "sd_venv",
   "language": "python",
   "name": "sd_venv"
  },
  "language_info": {
   "codemirror_mode": {
    "name": "ipython",
    "version": 3
   },
   "file_extension": ".py",
   "mimetype": "text/x-python",
   "name": "python",
   "nbconvert_exporter": "python",
   "pygments_lexer": "ipython3",
   "version": "3.8.10"
  }
 },
 "nbformat": 4,
 "nbformat_minor": 5
}
