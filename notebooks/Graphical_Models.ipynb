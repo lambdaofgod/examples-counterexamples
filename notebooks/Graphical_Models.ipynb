{
 "cells": [
  {
   "cell_type": "code",
   "execution_count": 1,
   "id": "942e2228-13da-4269-a27e-d8271814bd21",
   "metadata": {},
   "outputs": [
    {
     "name": "stderr",
     "output_type": "stream",
     "text": [
      "/home/kuba/.cache/pypoetry/virtualenvs/examples-counterexamples-YUfXfKE6-py3.10/lib/python3.10/site-packages/tqdm/auto.py:21: TqdmWarning: IProgress not found. Please update jupyter and ipywidgets. See https://ipywidgets.readthedocs.io/en/stable/user_install.html\n",
      "  from .autonotebook import tqdm as notebook_tqdm\n"
     ]
    }
   ],
   "source": [
    "import dowhy\n",
    "import networkx as nx\n",
    "import numpy as np\n",
    "\n",
    "from pgmpy.models import BayesianNetwork\n",
    "from pgmpy.factors.discrete import TabularCPD\n",
    "from pgmpy.sampling import BayesianModelSampling\n",
    "from pgmpy.inference import VariableElimination\n"
   ]
  },
  {
   "cell_type": "markdown",
   "id": "aa3626b7-bf9d-4027-9f61-6eb262284718",
   "metadata": {},
   "source": [
    "## Barber's burglary example\n",
    "\n",
    "See chapter 3 of [Bayesian Reasoning and Machine Learning](http://web4.cs.ucl.ac.uk/staff/D.Barber/pmwiki/pmwiki.php?n=Brml.HomePage)"
   ]
  },
  {
   "cell_type": "code",
   "execution_count": 2,
   "id": "5abf0a89-2abe-4c88-895e-600680b2a5da",
   "metadata": {},
   "outputs": [],
   "source": [
    "edges = [\n",
    "    (\"Earthquake\", \"Radio\"),\n",
    "    (\"Earthquake\", \"Alarm\"),\n",
    "    (\"Burglary\", \"Alarm\"),\n",
    "]\n",
    "causal_graph = nx.DiGraph(edges)"
   ]
  },
  {
   "cell_type": "code",
   "execution_count": 3,
   "id": "b11355aa-8357-4b97-93d0-923f406d1bf1",
   "metadata": {},
   "outputs": [
    {
     "name": "stderr",
     "output_type": "stream",
     "text": [
      "INFO:dowhy.utils.plotting:Pygraphviz installation not found, falling back to networkx plotting. For better looking plots, consider installing pygraphviz. Note This requires both the Python pygraphviz package (``pip install pygraphviz``) and the shared system library (e.g. ``brew install graphviz`` or ``apt-get install graphviz``)\n"
     ]
    },
    {
     "data": {
      "image/png": "[encoded data removed]",
      "text/plain": [
       "<Figure size 500x500 with 1 Axes>"
      ]
     },
     "metadata": {},
     "output_type": "display_data"
    }
   ],
   "source": [
    "from dowhy.utils import plot\n",
    "\n",
    "plot(causal_graph)"
   ]
  },
  {
   "cell_type": "code",
   "execution_count": 4,
   "id": "0ed0f6d4-5e94-43b2-8b99-e702c7e33243",
   "metadata": {},
   "outputs": [],
   "source": [
    "prob_alarm = np.array([0.0001, 0.99, 0.99, 0.99])\n"
   ]
  },
  {
   "cell_type": "code",
   "execution_count": 32,
   "id": "6cd76d6b-3e1c-45b4-bb07-7c40870949ef",
   "metadata": {},
   "outputs": [],
   "source": [
    "model = BayesianNetwork(edges)\n",
    "\n",
    "p_earthquake = 0.01\n",
    "cpd_earthquake = TabularCPD(variable='Earthquake', variable_card=2, values=[[1-p_earthquake], [p_earthquake]])\n",
    "cpd_alarm = TabularCPD(variable='Alarm', variable_card=2, \n",
    "                   values=np.stack([1 - prob_alarm, prob_alarm]), \n",
    "                   evidence=['Earthquake', \"Burglary\"], evidence_card=[2,2])\n",
    "cpd_burglary = TabularCPD(variable='Burglary', variable_card=2, \n",
    "                   values=[[0.99], [0.01]])\n",
    "cpd_radi = TabularCPD(variable='Radio', variable_card=2, evidence=[\"Earthquake\"], evidence_card=[2], values=[[1,0], [0, 1]])"
   ]
  },
  {
   "cell_type": "code",
   "execution_count": 33,
   "id": "0dcccffb-a579-4597-93cd-a2e04db86c17",
   "metadata": {},
   "outputs": [],
   "source": [
    "model.add_cpds(cpd_earthquake, cpd_alarm, cpd_burglary, cpd_radi)"
   ]
  },
  {
   "cell_type": "code",
   "execution_count": 34,
   "id": "df2583a3-1de7-42c8-b140-7bf588d38c11",
   "metadata": {},
   "outputs": [
    {
     "name": "stderr",
     "output_type": "stream",
     "text": [
      "Generating for node: Alarm: 100%|████████████████████████████████████████████████████████████████████████████████████████████████████████████████████████████████████████████████████████████████████████████████████████████████████████████████████████| 4/4 [00:00<00:00, 736.91it/s]"
     ]
    },
    {
     "name": "stdout",
     "output_type": "stream",
     "text": [
      "    Earthquake  Radio  Alarm  Burglary\n",
      "0            0      0      0         0\n",
      "1            0      0      0         0\n",
      "2            0      0      0         0\n",
      "3            0      0      0         0\n",
      "4            0      0      0         0\n",
      "..         ...    ...    ...       ...\n",
      "95           0      0      0         0\n",
      "96           0      0      0         0\n",
      "97           0      0      0         0\n",
      "98           0      0      0         0\n",
      "99           0      0      0         0\n",
      "\n",
      "[100 rows x 4 columns]\n"
     ]
    },
    {
     "name": "stderr",
     "output_type": "stream",
     "text": [
      "\n",
      "/home/kuba/.cache/pypoetry/virtualenvs/examples-counterexamples-YUfXfKE6-py3.10/lib/python3.10/site-packages/pgmpy/sampling/base.py:582: FutureWarning: Passing a DataFrame to DataFrame.from_records is deprecated. Use set_index and/or drop to modify the DataFrame instead.\n",
      "  df = pd.DataFrame.from_records(samples)\n"
     ]
    }
   ],
   "source": [
    "sampler = BayesianModelSampling(model)\n",
    "samples = sampler.forward_sample(size=100)\n",
    "\n",
    "print(samples)"
   ]
  },
  {
   "cell_type": "markdown",
   "id": "0930a9d2-9a2d-437d-97b8-368058c163d0",
   "metadata": {},
   "source": [
    "The earthquake probability was modified from original example to show the dramatic effect of another possible cause\n",
    "\n",
    "What can we tell if we do not know if radio informed about earthquake?\n",
    "\n",
    "P(Burglary=1|Alarm=1)"
   ]
  },
  {
   "cell_type": "code",
   "execution_count": 38,
   "id": "dac9131d-f5c1-4de6-afc0-c89c1b953806",
   "metadata": {},
   "outputs": [
    {
     "data": {
      "image/png": "[encoded data removed]",
      "text/latex": [
       "$\\displaystyle 0.500025001250062$"
      ],
      "text/plain": [
       "0.5000250012500624"
      ]
     },
     "execution_count": 38,
     "metadata": {},
     "output_type": "execute_result"
    }
   ],
   "source": [
    "infer = VariableElimination(model)\n",
    "infer.query(variables=['Burglary'], evidence={'Alarm': 1}).values[1]"
   ]
  },
  {
   "cell_type": "markdown",
   "id": "8fbfdc1b-ac68-411e-909d-6f13b3cc52d3",
   "metadata": {},
   "source": [
    "If we hear the radio it means that alarm was unlikely \n",
    "\n",
    "P(Burglary=1|Alarm=1, Radio=1)"
   ]
  },
  {
   "cell_type": "code",
   "execution_count": 39,
   "id": "55c13915-d761-4300-8bb4-df06caedfa9b",
   "metadata": {},
   "outputs": [
    {
     "data": {
      "image/png": "[encoded data removed]",
      "text/latex": [
       "$\\displaystyle 0.01$"
      ],
      "text/plain": [
       "0.01"
      ]
     },
     "execution_count": 39,
     "metadata": {},
     "output_type": "execute_result"
    }
   ],
   "source": [
    "infer.query(variables=['Burglary'], evidence={'Alarm': 1, \"Radio\": 1}).values[1]"
   ]
  },
  {
   "cell_type": "markdown",
   "id": "948b8cfa-51ab-4075-a18f-f389b8e474b3",
   "metadata": {},
   "source": [
    "P(Burglary=1|Alarm=1,Radio=0)"
   ]
  },
  {
   "cell_type": "code",
   "execution_count": 40,
   "id": "a7c75038-9d74-40dd-b580-ea0bc87cd434",
   "metadata": {},
   "outputs": [
    {
     "data": {
      "image/png": "[encoded data removed]",
      "text/latex": [
       "$\\displaystyle 0.99009900990099$"
      ],
      "text/plain": [
       "0.99009900990099"
      ]
     },
     "execution_count": 40,
     "metadata": {},
     "output_type": "execute_result"
    }
   ],
   "source": [
    "infer.query(variables=['Burglary'], evidence={'Alarm': 1, \"Radio\": 0}).values[1]"
   ]
  }
 ],
 "metadata": {
  "kernelspec": {
   "display_name": "examples_counterexamples",
   "language": "python",
   "name": "examples_counterexamples"
  },
  "language_info": {
   "codemirror_mode": {
    "name": "ipython",
    "version": 3
   },
   "file_extension": ".py",
   "mimetype": "text/x-python",
   "name": "python",
   "nbconvert_exporter": "python",
   "pygments_lexer": "ipython3",
   "version": "3.10.12"
  }
 },
 "nbformat": 4,
 "nbformat_minor": 5
}
